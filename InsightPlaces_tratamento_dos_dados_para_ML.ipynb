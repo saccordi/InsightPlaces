{
  "cells": [
    {
      "cell_type": "markdown",
      "metadata": {
        "id": "view-in-github",
        "colab_type": "text"
      },
      "source": [
        "<a href=\"https://colab.research.google.com/github/saccordi/InsightPlaces/blob/master/InsightPlaces_tratamento_dos_dados_para_ML.ipynb\" target=\"_parent\"><img src=\"https://colab.research.google.com/assets/colab-badge.svg\" alt=\"Open In Colab\"/></a>"
      ]
    },
    {
      "cell_type": "markdown",
      "metadata": {
        "id": "-yYy-Dds_7qv"
      },
      "source": [
        "# **Bem-vindo(a) ao meu notebook!**\n",
        "Na etapa anterior, foram realizadas as transformações dos dados. Agora é necessário fazer a exploração e tratamento dessa base de dados para efetivamente partir pra criação dos modelos de ML.\n",
        "\n",
        "Nesse sentido, inicialmente serão selecionadas as features que fazem mais sentido para o projeto e depois será realizado alguns tratamentos na base de dados. Ao final, esses dados serão utilizados para a criação de um modelo de regressão que irá ajudar a imobiliária *InsightPlaces* na precificação dos imóveis."
      ]
    },
    {
      "cell_type": "code",
      "execution_count": 1,
      "metadata": {
        "colab": {
          "base_uri": "https://localhost:8080/"
        },
        "id": "DFix3Qh49u8o",
        "outputId": "dbdd6fc6-a3b2-4201-bbe0-ff878af40fc4"
      },
      "outputs": [
        {
          "output_type": "stream",
          "name": "stdout",
          "text": [
            "Collecting pyspark\n",
            "  Downloading pyspark-3.5.0.tar.gz (316.9 MB)\n",
            "\u001b[2K     \u001b[90m━━━━━━━━━━━━━━━━━━━━━━━━━━━━━━━━━━━━━━━━\u001b[0m \u001b[32m316.9/316.9 MB\u001b[0m \u001b[31m4.7 MB/s\u001b[0m eta \u001b[36m0:00:00\u001b[0m\n",
            "\u001b[?25h  Preparing metadata (setup.py) ... \u001b[?25l\u001b[?25hdone\n",
            "Requirement already satisfied: py4j==0.10.9.7 in /usr/local/lib/python3.10/dist-packages (from pyspark) (0.10.9.7)\n",
            "Building wheels for collected packages: pyspark\n",
            "  Building wheel for pyspark (setup.py) ... \u001b[?25l\u001b[?25hdone\n",
            "  Created wheel for pyspark: filename=pyspark-3.5.0-py2.py3-none-any.whl size=317425344 sha256=17153c7e679c7e20bf64a27c0709c1975b10c500137400caff36181837cc0233\n",
            "  Stored in directory: /root/.cache/pip/wheels/41/4e/10/c2cf2467f71c678cfc8a6b9ac9241e5e44a01940da8fbb17fc\n",
            "Successfully built pyspark\n",
            "Installing collected packages: pyspark\n",
            "Successfully installed pyspark-3.5.0\n"
          ]
        }
      ],
      "source": [
        "# instalando o PySpark\n",
        "!pip install pyspark"
      ]
    },
    {
      "cell_type": "code",
      "execution_count": 2,
      "metadata": {
        "colab": {
          "base_uri": "https://localhost:8080/",
          "height": 219
        },
        "id": "4CbHhhlh-cHm",
        "outputId": "6093c02d-d3d5-4527-e73f-f5839596d7d8"
      },
      "outputs": [
        {
          "output_type": "execute_result",
          "data": {
            "text/plain": [
              "<pyspark.sql.session.SparkSession at 0x7eba7d584c10>"
            ],
            "text/html": [
              "\n",
              "            <div>\n",
              "                <p><b>SparkSession - in-memory</b></p>\n",
              "                \n",
              "        <div>\n",
              "            <p><b>SparkContext</b></p>\n",
              "\n",
              "            <p><a href=\"http://8965742c393f:4040\">Spark UI</a></p>\n",
              "\n",
              "            <dl>\n",
              "              <dt>Version</dt>\n",
              "                <dd><code>v3.5.0</code></dd>\n",
              "              <dt>Master</dt>\n",
              "                <dd><code>local[*]</code></dd>\n",
              "              <dt>AppName</dt>\n",
              "                <dd><code>Transformacao com Spark</code></dd>\n",
              "            </dl>\n",
              "        </div>\n",
              "        \n",
              "            </div>\n",
              "        "
            ]
          },
          "metadata": {},
          "execution_count": 2
        }
      ],
      "source": [
        "# iniciando uma sessão Spark\n",
        "from pyspark.sql import SparkSession\n",
        "\n",
        "spark = SparkSession.builder \\\n",
        "    .master('local[*]') \\\n",
        "    .appName(\"Transformacao com Spark\") \\\n",
        "    .getOrCreate()\n",
        "\n",
        "spark"
      ]
    },
    {
      "cell_type": "code",
      "execution_count": 3,
      "metadata": {
        "colab": {
          "base_uri": "https://localhost:8080/"
        },
        "id": "VCB4oBMu-kNd",
        "outputId": "88519f6c-c709-4ccd-af16-09dc8f872097"
      },
      "outputs": [
        {
          "output_type": "stream",
          "name": "stdout",
          "text": [
            "--2023-11-29 23:56:09--  https://caelum-online-public.s3.amazonaws.com/challenge-spark/semana-2.zip\n",
            "Resolving caelum-online-public.s3.amazonaws.com (caelum-online-public.s3.amazonaws.com)... 52.217.116.233, 3.5.11.213, 3.5.0.185, ...\n",
            "Connecting to caelum-online-public.s3.amazonaws.com (caelum-online-public.s3.amazonaws.com)|52.217.116.233|:443... connected.\n",
            "HTTP request sent, awaiting response... 200 OK\n",
            "Length: 2763652 (2.6M) [application/zip]\n",
            "Saving to: ‘semana-2.zip’\n",
            "\n",
            "semana-2.zip        100%[===================>]   2.63M  4.37MB/s    in 0.6s    \n",
            "\n",
            "2023-11-29 23:56:11 (4.37 MB/s) - ‘semana-2.zip’ saved [2763652/2763652]\n",
            "\n",
            "Archive:  semana-2.zip\n",
            "   creating: dados/dataset_transformado_parquet/\n",
            "  inflating: dados/dataset_transformado_parquet/_SUCCESS  \n",
            "  inflating: dados/dataset_transformado_parquet/._SUCCESS.crc  \n",
            "  inflating: dados/dataset_transformado_parquet/part-00000-00341ba7-0a7c-4fef-a81e-1066725a64b1-c000.snappy.parquet  \n",
            "  inflating: dados/dataset_transformado_parquet/.part-00000-00341ba7-0a7c-4fef-a81e-1066725a64b1-c000.snappy.parquet.crc  \n"
          ]
        }
      ],
      "source": [
        "# obtendo os dados já transformados na fase anterior\n",
        "!wget 'https://caelum-online-public.s3.amazonaws.com/challenge-spark/semana-2.zip' && unzip semana-2.zip -d dados/"
      ]
    },
    {
      "cell_type": "code",
      "execution_count": 4,
      "metadata": {
        "id": "a5mIbpEL--UW"
      },
      "outputs": [],
      "source": [
        "# fazendo a leitura dos dados e mostrando as primeiras linhas\n",
        "dados = spark.read.parquet(\"dados/dataset_transformado_parquet\")"
      ]
    },
    {
      "cell_type": "markdown",
      "metadata": {
        "id": "nr9O-YabaZLG"
      },
      "source": [
        "## Analisando o conjunto de dados"
      ]
    },
    {
      "cell_type": "code",
      "execution_count": 5,
      "metadata": {
        "id": "s4ynY_8WaFzI",
        "colab": {
          "base_uri": "https://localhost:8080/"
        },
        "outputId": "ca7baf3d-680b-421b-ca63-58efbca01f53"
      },
      "outputs": [
        {
          "output_type": "stream",
          "name": "stdout",
          "text": [
            "+--------------------+-----+----------+---------+---------+--------------------+-------+------+------------+------------+-----------+----+--------------------+------------+----------+----+-----+------+\n",
            "|                  id|andar|area_total|area_util|banheiros|     caracteristicas|quartos|suites|tipo_anuncio|tipo_unidade|   tipo_uso|vaga|              bairro|        zona|condominio|iptu| tipo| valor|\n",
            "+--------------------+-----+----------+---------+---------+--------------------+-------+------+------------+------------+-----------+----+--------------------+------------+----------+----+-----+------+\n",
            "|03a386b6-7ab8-4ef...|    0|        43|       43|        1|[Churrasqueira, A...|      2|  NULL|       Usado| Apartamento|Residencial|   1|            Realengo|  Zona Oeste|       285|NULL|Venda| 22999|\n",
            "|1fe78d41-b8e0-4d2...|    0|        44|       44|        1|                  []|      2|     0|       Usado| Apartamento|Residencial|   0|               Irajá|  Zona Norte|       170|   0|Venda|110000|\n",
            "|1fa1c1e5-e98c-433...|    4|      NULL|       55|        1|                  []|      2|     0|       Usado| Apartamento|Residencial|   1|              Cosmos|  Zona Oeste|      NULL|NULL|Venda|115000|\n",
            "|a6ab01ae-3d40-40e...|    2|      NULL|       55|        1|                  []|      2|     0|       Usado| Apartamento|Residencial|   0|        Tomás Coelho|  Zona Norte|      NULL|NULL|Venda|115000|\n",
            "|1d8ff7a2-16bd-4e3...|    0|      NULL|       50|        1|                  []|      1|  NULL|       Usado| Apartamento|Residencial|   0|              Centro|Zona Central|      1300|2679|Venda|125000|\n",
            "|40a2cbde-946b-42d...|    2|        47|       47|        1|[Condomínio fecha...|      2|     0|       Usado| Apartamento|Residencial|   1|        Campo Grande|  Zona Oeste|       380|NULL|Venda|138000|\n",
            "|be269ddf-a4a3-4a7...|    0|     17089|       45|        1|[Churrasqueira, C...|      2|     0|       Usado| Apartamento|Residencial|   1|        Campo Grande|  Zona Oeste|       356|   0|Venda|140000|\n",
            "|4b7e3d59-34fd-4ba...|    3|        48|       48|        1|[Churrasqueira, P...|      2|  NULL|       Usado| Apartamento|Residencial|   1|        Campo Grande|  Zona Oeste|         0|   0|Venda|150000|\n",
            "|a1a0c2ac-4fa8-4b0...|    9|      NULL|       55|        1|[Churrasqueira, E...|      2|  NULL|       Usado| Apartamento|Residencial|   1|Freguesia (Jacare...|  Zona Oeste|       780| 660|Venda|160000|\n",
            "|390d2b88-e06d-47e...|    0|        70|       70|        2|   [Salão de festas]|      2|     0|       Usado| Apartamento|Residencial|   1|          Praça Seca|  Zona Oeste|    420000|NULL|Venda|159000|\n",
            "+--------------------+-----+----------+---------+---------+--------------------+-------+------+------------+------------+-----------+----+--------------------+------------+----------+----+-----+------+\n",
            "only showing top 10 rows\n",
            "\n"
          ]
        }
      ],
      "source": [
        "# mostrando as 10 primeiras linhas do conjunto de dados\n",
        "dados.show(10)"
      ]
    },
    {
      "cell_type": "code",
      "execution_count": 6,
      "metadata": {
        "id": "KuNToGv6ICPZ",
        "colab": {
          "base_uri": "https://localhost:8080/"
        },
        "outputId": "86046289-61d6-49f3-90e6-96bde7834756"
      },
      "outputs": [
        {
          "output_type": "stream",
          "name": "stdout",
          "text": [
            "root\n",
            " |-- id: string (nullable = true)\n",
            " |-- andar: long (nullable = true)\n",
            " |-- area_total: string (nullable = true)\n",
            " |-- area_util: string (nullable = true)\n",
            " |-- banheiros: long (nullable = true)\n",
            " |-- caracteristicas: array (nullable = true)\n",
            " |    |-- element: string (containsNull = true)\n",
            " |-- quartos: long (nullable = true)\n",
            " |-- suites: long (nullable = true)\n",
            " |-- tipo_anuncio: string (nullable = true)\n",
            " |-- tipo_unidade: string (nullable = true)\n",
            " |-- tipo_uso: string (nullable = true)\n",
            " |-- vaga: long (nullable = true)\n",
            " |-- bairro: string (nullable = true)\n",
            " |-- zona: string (nullable = true)\n",
            " |-- condominio: string (nullable = true)\n",
            " |-- iptu: string (nullable = true)\n",
            " |-- tipo: string (nullable = true)\n",
            " |-- valor: string (nullable = true)\n",
            "\n"
          ]
        }
      ],
      "source": [
        "# analisando a estrutura da base de dados\n",
        "dados.printSchema()"
      ]
    },
    {
      "cell_type": "markdown",
      "metadata": {
        "id": "6MiIIQ_5Mdci"
      },
      "source": [
        "Percebe-se, com essa primeira analise, que o dados estão transformados de acordo com a fase anterior."
      ]
    },
    {
      "cell_type": "markdown",
      "metadata": {
        "id": "0iurFd6AewnC"
      },
      "source": [
        "## Seleção de features\n",
        "\n",
        "Algumas colunas possuem apenas um único valor devido aos filtros que foram realizados na base de dados durante a fase de transformação dos dados. Dessa forma, essas colunas serão excluídas, pois como possuem apenas um valor não serão relevantes para o modelo."
      ]
    },
    {
      "cell_type": "code",
      "execution_count": 7,
      "metadata": {
        "id": "eduswhPpgz_U",
        "colab": {
          "base_uri": "https://localhost:8080/"
        },
        "outputId": "2557201c-ba4e-4b04-c99b-280b11a1c7fa"
      },
      "outputs": [
        {
          "output_type": "stream",
          "name": "stdout",
          "text": [
            "+-----+\n",
            "| tipo|\n",
            "+-----+\n",
            "|Venda|\n",
            "+-----+\n",
            "\n"
          ]
        }
      ],
      "source": [
        "# verificando os registros distintos na coluna tipo\n",
        "dados.select(\"tipo\").distinct().show(5)"
      ]
    },
    {
      "cell_type": "code",
      "execution_count": 8,
      "metadata": {
        "id": "nSYqI21LMTfI",
        "colab": {
          "base_uri": "https://localhost:8080/"
        },
        "outputId": "febe817f-8523-4e24-f3f4-02e904b039e3"
      },
      "outputs": [
        {
          "output_type": "stream",
          "name": "stdout",
          "text": [
            "+------------+\n",
            "|tipo_anuncio|\n",
            "+------------+\n",
            "|       Usado|\n",
            "+------------+\n",
            "\n"
          ]
        }
      ],
      "source": [
        "# verificando os registros distintos na coluna anuncio\n",
        "dados.select(\"tipo_anuncio\").distinct().show(5)"
      ]
    },
    {
      "cell_type": "code",
      "execution_count": 9,
      "metadata": {
        "id": "_-miRrKIM1ng",
        "colab": {
          "base_uri": "https://localhost:8080/"
        },
        "outputId": "60680eb5-b2df-4849-95cb-8c323c4de16a"
      },
      "outputs": [
        {
          "output_type": "stream",
          "name": "stdout",
          "text": [
            "+------------+\n",
            "|tipo_unidade|\n",
            "+------------+\n",
            "| Apartamento|\n",
            "+------------+\n",
            "\n"
          ]
        }
      ],
      "source": [
        "# verificando os registros distintos na coluna tipo_unidade\n",
        "dados.select(\"tipo_unidade\").distinct().show(5)"
      ]
    },
    {
      "cell_type": "code",
      "execution_count": 10,
      "metadata": {
        "id": "ujlV6ZyTM9An",
        "colab": {
          "base_uri": "https://localhost:8080/"
        },
        "outputId": "11bc2c1d-326f-430f-c16f-8d35798f8db8"
      },
      "outputs": [
        {
          "output_type": "stream",
          "name": "stdout",
          "text": [
            "+-----------+\n",
            "|   tipo_uso|\n",
            "+-----------+\n",
            "|Residencial|\n",
            "+-----------+\n",
            "\n"
          ]
        }
      ],
      "source": [
        "# verificando os registros distintos na coluna tipo_uso\n",
        "dados.select(\"tipo_uso\").distinct().show(5)"
      ]
    },
    {
      "cell_type": "code",
      "execution_count": 11,
      "metadata": {
        "id": "BKY936YlNPsI",
        "colab": {
          "base_uri": "https://localhost:8080/"
        },
        "outputId": "4f007af5-c8ad-4d92-93cb-00d5c7667485"
      },
      "outputs": [
        {
          "output_type": "stream",
          "name": "stdout",
          "text": [
            "+----------+---------+\n",
            "|area_total|area_util|\n",
            "+----------+---------+\n",
            "|        43|       43|\n",
            "|        44|       44|\n",
            "|      NULL|       55|\n",
            "|      NULL|       55|\n",
            "|      NULL|       50|\n",
            "+----------+---------+\n",
            "only showing top 5 rows\n",
            "\n"
          ]
        }
      ],
      "source": [
        "# verificando os registros distintos nas colunas area_total e area_util\n",
        "dados.select(\"area_total\", \"area_util\").show(5)"
      ]
    },
    {
      "cell_type": "markdown",
      "metadata": {
        "id": "vXw5sV5aVdeI"
      },
      "source": [
        "As colunas `area_total` e `area_util` possuem vários registros distintos e nulos. Sendo assim, será feita uma analise mais profunda."
      ]
    },
    {
      "cell_type": "code",
      "execution_count": 12,
      "metadata": {
        "id": "6aE7f_X4X8SG",
        "colab": {
          "base_uri": "https://localhost:8080/"
        },
        "outputId": "21f797d3-a8c5-40a6-edac-171a4577a5e9"
      },
      "outputs": [
        {
          "output_type": "stream",
          "name": "stdout",
          "text": [
            "Quantidade de linhas: 57368\n",
            "Quantidade de linhas com area_util == area_total: 55384\n",
            "Quantidade de linhas diferentes: 1984\n"
          ]
        }
      ],
      "source": [
        "# importando o módulo functions\n",
        "from pyspark.sql import functions as f\n",
        "\n",
        "# criando um DataFrame sem valores nulos das colunas area_util e area_total\n",
        "dados_without_na = dados\\\n",
        "    .select('area_util', 'area_total')\\\n",
        "    .na\\\n",
        "    .drop()\n",
        "\n",
        "# criando variáves com analises mais detalhadas\n",
        "quantidade_total = dados_without_na.count()\n",
        "quantidade_iguais = dados_without_na.filter(f.col('area_util') == f.col('area_total')).count()\n",
        "quantidade_distintas = quantidade_total - quantidade_iguais\n",
        "\n",
        "# mostrando as informações\n",
        "print(f\"Quantidade de linhas: {quantidade_total}\")\n",
        "print(f\"Quantidade de linhas com area_util == area_total: {quantidade_iguais}\")\n",
        "print(f\"Quantidade de linhas diferentes: {quantidade_distintas}\")"
      ]
    },
    {
      "cell_type": "markdown",
      "metadata": {
        "id": "fnWGWb4Jhf_J"
      },
      "source": [
        "Com essa analise mais profunda, percebe-se que existem 57368 linhas e, entre elas, 55384 possuem os mesmos valores tanto na coluna `area_util` quanto na coluna `area_total`. Ou seja, a maioria das informações dessas colunas são as mesmas e,por isso, não é necessário manter as duas colunas.\n",
        "\n",
        "Para decidir qual das colunas manter, será feita uma alanlise da quantidade de dados nulos em cada uma delas."
      ]
    },
    {
      "cell_type": "code",
      "execution_count": 13,
      "metadata": {
        "id": "-qjy_P8UkqSc",
        "colab": {
          "base_uri": "https://localhost:8080/"
        },
        "outputId": "2bf8cef6-4adb-4ecf-811d-9fbc860ec5e5"
      },
      "outputs": [
        {
          "output_type": "stream",
          "name": "stdout",
          "text": [
            "+----------+---------+\n",
            "|area_total|area_util|\n",
            "+----------+---------+\n",
            "|      9194|        0|\n",
            "+----------+---------+\n",
            "\n"
          ]
        }
      ],
      "source": [
        "# mostrando quantos registros nulos têm em cada uma das colunas\n",
        "colunas = [\"area_total\", \"area_util\"]\n",
        "\n",
        "dados\\\n",
        "    .select([f.count(f.when(dados[c].isNull(), True)).alias(c) for c in colunas])\\\n",
        "    .show()"
      ]
    },
    {
      "cell_type": "markdown",
      "metadata": {
        "id": "vKU1Bt7LomMJ"
      },
      "source": [
        "O resultado acima mostra que a coluna `area_total` têm 9194 registros nulos, ao passo que a coluna `area_total` não têm registros nulos. Sendo assim, a coluna `area_total` será removida da base de dados. Além dela, as outras colunas que possuem apenas um único valor também sersão removidas."
      ]
    },
    {
      "cell_type": "code",
      "execution_count": 14,
      "metadata": {
        "id": "jTnvMyeNqHV4",
        "colab": {
          "base_uri": "https://localhost:8080/"
        },
        "outputId": "83d64899-f792-4a41-8107-ce8fcf765629"
      },
      "outputs": [
        {
          "output_type": "stream",
          "name": "stdout",
          "text": [
            "+--------------------+-----+---------+---------+--------------------+-------+------+----+------------+------------+----------+----+------+\n",
            "|                  id|andar|area_util|banheiros|     caracteristicas|quartos|suites|vaga|      bairro|        zona|condominio|iptu| valor|\n",
            "+--------------------+-----+---------+---------+--------------------+-------+------+----+------------+------------+----------+----+------+\n",
            "|03a386b6-7ab8-4ef...|    0|       43|        1|[Churrasqueira, A...|      2|  NULL|   1|    Realengo|  Zona Oeste|       285|NULL| 22999|\n",
            "|1fe78d41-b8e0-4d2...|    0|       44|        1|                  []|      2|     0|   0|       Irajá|  Zona Norte|       170|   0|110000|\n",
            "|1fa1c1e5-e98c-433...|    4|       55|        1|                  []|      2|     0|   1|      Cosmos|  Zona Oeste|      NULL|NULL|115000|\n",
            "|a6ab01ae-3d40-40e...|    2|       55|        1|                  []|      2|     0|   0|Tomás Coelho|  Zona Norte|      NULL|NULL|115000|\n",
            "|1d8ff7a2-16bd-4e3...|    0|       50|        1|                  []|      1|  NULL|   0|      Centro|Zona Central|      1300|2679|125000|\n",
            "+--------------------+-----+---------+---------+--------------------+-------+------+----+------------+------------+----------+----+------+\n",
            "only showing top 5 rows\n",
            "\n"
          ]
        }
      ],
      "source": [
        "# visualizando o novo Dataframe\n",
        "dados.\\\n",
        "    drop(\"area_total\", \"tipo_anuncio\", \"tipo_unidade\", \"tipo_uso\", \"tipo\")\\\n",
        "    .show(5)"
      ]
    },
    {
      "cell_type": "code",
      "execution_count": 15,
      "metadata": {
        "id": "uv9WXHzCq4-R",
        "colab": {
          "base_uri": "https://localhost:8080/"
        },
        "outputId": "18683c3b-2cc1-45ff-d818-a29dbdd63bfd"
      },
      "outputs": [
        {
          "output_type": "stream",
          "name": "stdout",
          "text": [
            "+--------------------+-----+---------+---------+--------------------+-------+------+----+------------+------------+----------+----+------+\n",
            "|                  id|andar|area_util|banheiros|     caracteristicas|quartos|suites|vaga|      bairro|        zona|condominio|iptu| valor|\n",
            "+--------------------+-----+---------+---------+--------------------+-------+------+----+------------+------------+----------+----+------+\n",
            "|03a386b6-7ab8-4ef...|    0|       43|        1|[Churrasqueira, A...|      2|  NULL|   1|    Realengo|  Zona Oeste|       285|NULL| 22999|\n",
            "|1fe78d41-b8e0-4d2...|    0|       44|        1|                  []|      2|     0|   0|       Irajá|  Zona Norte|       170|   0|110000|\n",
            "|1fa1c1e5-e98c-433...|    4|       55|        1|                  []|      2|     0|   1|      Cosmos|  Zona Oeste|      NULL|NULL|115000|\n",
            "|a6ab01ae-3d40-40e...|    2|       55|        1|                  []|      2|     0|   0|Tomás Coelho|  Zona Norte|      NULL|NULL|115000|\n",
            "|1d8ff7a2-16bd-4e3...|    0|       50|        1|                  []|      1|  NULL|   0|      Centro|Zona Central|      1300|2679|125000|\n",
            "+--------------------+-----+---------+---------+--------------------+-------+------+----+------------+------------+----------+----+------+\n",
            "only showing top 5 rows\n",
            "\n"
          ]
        }
      ],
      "source": [
        "# aplicando as mudanças\n",
        "dataset = dados.\\\n",
        "                drop(\"area_total\", \"tipo_anuncio\", \"tipo_unidade\", \"tipo_uso\", \"tipo\")\n",
        "\n",
        "dataset.show(5)"
      ]
    },
    {
      "cell_type": "markdown",
      "metadata": {
        "id": "M_XfUwtkwKqF"
      },
      "source": [
        "## Convertendo os tipos das colunas\n",
        "\n",
        "Ao analisar a estrutura dos dados, percebe-se que os tipos dos dados estão incorretos e, por isso, será necessário convertê-los.\n",
        "As colunas `andar`, `banheiros`, `suites` e `quartos`serão convertidas para inteiro. Além disso também pode ser necessário converter as colunas `area_util`, `condominio`, `iptu` e `iptu` para o tipo double.\n",
        "\n"
      ]
    },
    {
      "cell_type": "code",
      "execution_count": 16,
      "metadata": {
        "id": "M4zJYYhgaumX",
        "colab": {
          "base_uri": "https://localhost:8080/"
        },
        "outputId": "86718f96-af63-4b3b-94a2-37461371315a"
      },
      "outputs": [
        {
          "output_type": "stream",
          "name": "stdout",
          "text": [
            "root\n",
            " |-- id: string (nullable = true)\n",
            " |-- andar: long (nullable = true)\n",
            " |-- area_util: string (nullable = true)\n",
            " |-- banheiros: long (nullable = true)\n",
            " |-- caracteristicas: array (nullable = true)\n",
            " |    |-- element: string (containsNull = true)\n",
            " |-- quartos: long (nullable = true)\n",
            " |-- suites: long (nullable = true)\n",
            " |-- vaga: long (nullable = true)\n",
            " |-- bairro: string (nullable = true)\n",
            " |-- zona: string (nullable = true)\n",
            " |-- condominio: string (nullable = true)\n",
            " |-- iptu: string (nullable = true)\n",
            " |-- valor: string (nullable = true)\n",
            "\n"
          ]
        }
      ],
      "source": [
        "dataset.printSchema()"
      ]
    },
    {
      "cell_type": "code",
      "execution_count": 17,
      "metadata": {
        "id": "0qTnGNJSa3Ne"
      },
      "outputs": [],
      "source": [
        "# importando o módulo para altear os tipos dos dados\n",
        "from pyspark.sql.types import IntegerType, DoubleType"
      ]
    },
    {
      "cell_type": "code",
      "execution_count": 18,
      "metadata": {
        "id": "QJVeZLtKbB3d",
        "colab": {
          "base_uri": "https://localhost:8080/"
        },
        "outputId": "c6539136-7dc4-4f3b-f280-da389a7ce992"
      },
      "outputs": [
        {
          "output_type": "stream",
          "name": "stdout",
          "text": [
            "root\n",
            " |-- id: string (nullable = true)\n",
            " |-- andar: integer (nullable = true)\n",
            " |-- area_util: double (nullable = true)\n",
            " |-- banheiros: integer (nullable = true)\n",
            " |-- caracteristicas: array (nullable = true)\n",
            " |    |-- element: string (containsNull = true)\n",
            " |-- quartos: integer (nullable = true)\n",
            " |-- suites: integer (nullable = true)\n",
            " |-- vaga: integer (nullable = true)\n",
            " |-- bairro: string (nullable = true)\n",
            " |-- zona: string (nullable = true)\n",
            " |-- condominio: double (nullable = true)\n",
            " |-- iptu: double (nullable = true)\n",
            " |-- valor: double (nullable = true)\n",
            "\n"
          ]
        }
      ],
      "source": [
        "# conultando as mudança\n",
        "dataset\\\n",
        "    .withColumn('andar', dados['andar'].cast(IntegerType()))\\\n",
        "    .withColumn('area_util', dados['area_util'].cast(DoubleType()))\\\n",
        "    .withColumn('banheiros', dados['banheiros'].cast(IntegerType()))\\\n",
        "    .withColumn('quartos', dados['quartos'].cast(IntegerType()))\\\n",
        "    .withColumn('suites', dados['suites'].cast(IntegerType()))\\\n",
        "    .withColumn('condominio', dados['condominio'].cast(DoubleType()))\\\n",
        "    .withColumn('vaga', dados['vaga'].cast(IntegerType()))\\\n",
        "    .withColumn('iptu', dados['iptu'].cast(DoubleType()))\\\n",
        "    .withColumn('valor', dados['valor'].cast(DoubleType()))\\\n",
        "    .printSchema()"
      ]
    },
    {
      "cell_type": "code",
      "execution_count": 19,
      "metadata": {
        "id": "t-m1SCRZjM8X"
      },
      "outputs": [],
      "source": [
        "# aplicando as mudanças ao Dataset\n",
        "dataset = dataset\\\n",
        "    .withColumn('andar', dados['andar'].cast(IntegerType()))\\\n",
        "    .withColumn('area_util', dados['area_util'].cast(IntegerType()))\\\n",
        "    .withColumn('banheiros', dados['banheiros'].cast(IntegerType()))\\\n",
        "    .withColumn('quartos', dados['quartos'].cast(IntegerType()))\\\n",
        "    .withColumn('suites', dados['suites'].cast(DoubleType()))\\\n",
        "    .withColumn('condominio', dados['condominio'].cast(DoubleType()))\\\n",
        "    .withColumn('vaga', dados['vaga'].cast(DoubleType()))\\\n",
        "    .withColumn('iptu', dados['iptu'].cast(DoubleType()))\\\n",
        "    .withColumn('valor', dados['valor'].cast(DoubleType()))"
      ]
    },
    {
      "cell_type": "markdown",
      "metadata": {
        "id": "DFqzlQDPjX5d"
      },
      "source": [
        "## Tratando a coluna \"caracteristicas\"\n",
        "\n",
        "A coluna `caracteristicas` possui listas de strings e, algumas dessas listas, estão sem elementos. Essas listas serão transformadas em valores nulos."
      ]
    },
    {
      "cell_type": "code",
      "execution_count": 20,
      "metadata": {
        "id": "CsWWQboSkmz9",
        "colab": {
          "base_uri": "https://localhost:8080/"
        },
        "outputId": "b3b90223-0ee2-4905-954f-e075c6bd1d14"
      },
      "outputs": [
        {
          "output_type": "execute_result",
          "data": {
            "text/plain": [
              "[Row(col='Condomínio fechado'),\n",
              " Row(col='Playground'),\n",
              " Row(col='Portão eletrônico'),\n",
              " Row(col='Piscina'),\n",
              " Row(col='Animais permitidos'),\n",
              " Row(col='Portaria 24h'),\n",
              " Row(col='Elevador'),\n",
              " Row(col='Academia'),\n",
              " Row(col='Salão de festas'),\n",
              " Row(col='Churrasqueira')]"
            ]
          },
          "metadata": {},
          "execution_count": 20
        }
      ],
      "source": [
        "# visualizando os elementos únicos das listas dessa coluna\n",
        "dataset.select(f.explode(\"caracteristicas\")).distinct().collect()"
      ]
    },
    {
      "cell_type": "code",
      "execution_count": 21,
      "metadata": {
        "id": "Jy9tokRFkw-C",
        "colab": {
          "base_uri": "https://localhost:8080/"
        },
        "outputId": "0b6f28fc-05a7-4f29-f1b9-2c38e069bb63"
      },
      "outputs": [
        {
          "output_type": "stream",
          "name": "stdout",
          "text": [
            "+--------------------+-----+---------+---------+--------------------+-------+------+----+--------------------+------------+----------+------+--------+\n",
            "|                  id|andar|area_util|banheiros|     caracteristicas|quartos|suites|vaga|              bairro|        zona|condominio|  iptu|   valor|\n",
            "+--------------------+-----+---------+---------+--------------------+-------+------+----+--------------------+------------+----------+------+--------+\n",
            "|03a386b6-7ab8-4ef...|    0|       43|        1|[Churrasqueira, A...|      2|  NULL| 1.0|            Realengo|  Zona Oeste|     285.0|  NULL| 22999.0|\n",
            "|1fe78d41-b8e0-4d2...|    0|       44|        1|                NULL|      2|   0.0| 0.0|               Irajá|  Zona Norte|     170.0|   0.0|110000.0|\n",
            "|1fa1c1e5-e98c-433...|    4|       55|        1|                NULL|      2|   0.0| 1.0|              Cosmos|  Zona Oeste|      NULL|  NULL|115000.0|\n",
            "|a6ab01ae-3d40-40e...|    2|       55|        1|                NULL|      2|   0.0| 0.0|        Tomás Coelho|  Zona Norte|      NULL|  NULL|115000.0|\n",
            "|1d8ff7a2-16bd-4e3...|    0|       50|        1|                NULL|      1|  NULL| 0.0|              Centro|Zona Central|    1300.0|2679.0|125000.0|\n",
            "|40a2cbde-946b-42d...|    2|       47|        1|[Condomínio fecha...|      2|   0.0| 1.0|        Campo Grande|  Zona Oeste|     380.0|  NULL|138000.0|\n",
            "|be269ddf-a4a3-4a7...|    0|       45|        1|[Churrasqueira, C...|      2|   0.0| 1.0|        Campo Grande|  Zona Oeste|     356.0|   0.0|140000.0|\n",
            "|4b7e3d59-34fd-4ba...|    3|       48|        1|[Churrasqueira, P...|      2|  NULL| 1.0|        Campo Grande|  Zona Oeste|       0.0|   0.0|150000.0|\n",
            "|a1a0c2ac-4fa8-4b0...|    9|       55|        1|[Churrasqueira, E...|      2|  NULL| 1.0|Freguesia (Jacare...|  Zona Oeste|     780.0| 660.0|160000.0|\n",
            "|390d2b88-e06d-47e...|    0|       70|        2|   [Salão de festas]|      2|   0.0| 1.0|          Praça Seca|  Zona Oeste|  420000.0|  NULL|159000.0|\n",
            "|07bb07c1-21cc-4da...|    2|       48|        1|[Condomínio fecha...|      1|   0.0| 0.0|             Piedade|  Zona Norte|      10.0|  10.0|170000.0|\n",
            "|7d3a1bae-988c-44b...|    5|       40|        1|[Playground, Chur...|      2|   0.0| 1.0|        Braz de Pina|  Zona Norte|     150.0| 120.0|189000.0|\n",
            "|47af17f0-1c81-474...|    0|       65|        1|                NULL|      2|   0.0| 1.0|            Campinho|  Zona Oeste|     432.0|  NULL|185000.0|\n",
            "|a9bd1575-e9f2-43d...|    2|       50|        1|[Condomínio fecha...|      1|   0.0| 1.0|           Madureira|  Zona Norte|     650.0|   1.0|185000.0|\n",
            "|cfca7253-3d02-4cd...|    5|       45|        1|[Academia, Churra...|      2|   1.0| 0.0|             Taquara|  Zona Oeste|     150.0|  40.0|199000.0|\n",
            "|b571ae97-e3d8-4fb...|    0|       48|        1|[Academia, Condom...|      2|  NULL| 0.0|          Bonsucesso|  Zona Norte|       0.0|   0.0|205933.0|\n",
            "|eb5fdc65-acae-45f...|    0|       44|        1|[Academia, Condom...|      2|  NULL| 0.0|          Bonsucesso|  Zona Norte|       0.0|   0.0|206000.0|\n",
            "|77cd0388-e3ff-40c...|    2|       64|        1|                NULL|      2|   0.0| 0.0|      Jardim América|  Zona Norte|       0.0|   0.0|220000.0|\n",
            "|74a91f07-7387-4a8...|    0|       55|        2|[Salão de festas,...|      1|   0.0| 1.0|        Engenho Novo|  Zona Norte|     600.0| 652.0|219130.0|\n",
            "|6aab1165-508d-455...|    3|       60|        1|[Animais permitidos]|      3|   0.0| 1.0|           Cascadura|  Zona Norte|      98.0|   1.0|230000.0|\n",
            "+--------------------+-----+---------+---------+--------------------+-------+------+----+--------------------+------------+----------+------+--------+\n",
            "only showing top 20 rows\n",
            "\n"
          ]
        }
      ],
      "source": [
        "# substituindo os valores vazios da coluna 'caracteristicas'por nulo\n",
        "dataset = dataset.withColumn('caracteristicas', f.when((f.size(f.col('caracteristicas')) == 0), f.lit(None)).otherwise(f.col('caracteristicas')))\n",
        "dataset.show()"
      ]
    },
    {
      "cell_type": "markdown",
      "metadata": {
        "id": "Di5o5K8xmSUS"
      },
      "source": [
        "## Tratando dados faltantes\n",
        "Ao analisar a estrutura da base de dados, nota-se que existem diversos dados faltantes. É importante tratar isso pois modelos de Machine Learning não costumam trabalhar corretamente com dados nulos. Tendo isso em mente, os dados nulos das colunas numéricas serão substituídos pelo número 0.\n"
      ]
    },
    {
      "cell_type": "code",
      "execution_count": 22,
      "metadata": {
        "id": "_Qf4Ak192NZN",
        "colab": {
          "base_uri": "https://localhost:8080/"
        },
        "outputId": "f6cb9afe-184a-4b38-b997-166dcfbbeee7"
      },
      "outputs": [
        {
          "output_type": "stream",
          "name": "stdout",
          "text": [
            "root\n",
            " |-- id: string (nullable = true)\n",
            " |-- andar: integer (nullable = true)\n",
            " |-- area_util: integer (nullable = true)\n",
            " |-- banheiros: integer (nullable = true)\n",
            " |-- caracteristicas: array (nullable = true)\n",
            " |    |-- element: string (containsNull = true)\n",
            " |-- quartos: integer (nullable = true)\n",
            " |-- suites: double (nullable = true)\n",
            " |-- vaga: double (nullable = true)\n",
            " |-- bairro: string (nullable = true)\n",
            " |-- zona: string (nullable = true)\n",
            " |-- condominio: double (nullable = true)\n",
            " |-- iptu: double (nullable = true)\n",
            " |-- valor: double (nullable = true)\n",
            "\n"
          ]
        }
      ],
      "source": [
        "dataset.printSchema()"
      ]
    },
    {
      "cell_type": "code",
      "execution_count": 23,
      "metadata": {
        "id": "c5jsaonY2Rbi",
        "colab": {
          "base_uri": "https://localhost:8080/"
        },
        "outputId": "79f10454-b7ad-4b7b-8490-8e2033078f06"
      },
      "outputs": [
        {
          "output_type": "stream",
          "name": "stdout",
          "text": [
            "+---+-----+---------+---------+---------------+-------+------+----+------+----+----------+----+-----+\n",
            "| id|andar|area_util|banheiros|caracteristicas|quartos|suites|vaga|bairro|zona|condominio|iptu|valor|\n",
            "+---+-----+---------+---------+---------------+-------+------+----+------+----+----------+----+-----+\n",
            "|  0|    0|        0|        0|          12736|      0|  5554|3017|     0|   0|      2371|7199|    0|\n",
            "+---+-----+---------+---------+---------------+-------+------+----+------+----+----------+----+-----+\n",
            "\n"
          ]
        }
      ],
      "source": [
        "# analisando a quantidade de dados nulos por as coluna\n",
        "dataset\\\n",
        "    .select([f.count(f.when(dataset[c].isNull(), True)).alias(c) for c in dataset.columns])\\\n",
        "    .show()"
      ]
    },
    {
      "cell_type": "code",
      "execution_count": 24,
      "metadata": {
        "id": "oEVfnQD4_Cz1",
        "colab": {
          "base_uri": "https://localhost:8080/"
        },
        "outputId": "a4f428b8-e757-4e31-aa3b-15bb3ea5db43"
      },
      "outputs": [
        {
          "output_type": "stream",
          "name": "stdout",
          "text": [
            "+--------------------+-----+---------+---------+--------------------+-------+------+----+--------------------+------------+----------+------+--------+\n",
            "|                  id|andar|area_util|banheiros|     caracteristicas|quartos|suites|vaga|              bairro|        zona|condominio|  iptu|   valor|\n",
            "+--------------------+-----+---------+---------+--------------------+-------+------+----+--------------------+------------+----------+------+--------+\n",
            "|03a386b6-7ab8-4ef...|    0|       43|        1|[Churrasqueira, A...|      2|   0.0| 1.0|            Realengo|  Zona Oeste|     285.0|   0.0| 22999.0|\n",
            "|1fe78d41-b8e0-4d2...|    0|       44|        1|                NULL|      2|   0.0| 0.0|               Irajá|  Zona Norte|     170.0|   0.0|110000.0|\n",
            "|1fa1c1e5-e98c-433...|    4|       55|        1|                NULL|      2|   0.0| 1.0|              Cosmos|  Zona Oeste|       0.0|   0.0|115000.0|\n",
            "|a6ab01ae-3d40-40e...|    2|       55|        1|                NULL|      2|   0.0| 0.0|        Tomás Coelho|  Zona Norte|       0.0|   0.0|115000.0|\n",
            "|1d8ff7a2-16bd-4e3...|    0|       50|        1|                NULL|      1|   0.0| 0.0|              Centro|Zona Central|    1300.0|2679.0|125000.0|\n",
            "|40a2cbde-946b-42d...|    2|       47|        1|[Condomínio fecha...|      2|   0.0| 1.0|        Campo Grande|  Zona Oeste|     380.0|   0.0|138000.0|\n",
            "|be269ddf-a4a3-4a7...|    0|       45|        1|[Churrasqueira, C...|      2|   0.0| 1.0|        Campo Grande|  Zona Oeste|     356.0|   0.0|140000.0|\n",
            "|4b7e3d59-34fd-4ba...|    3|       48|        1|[Churrasqueira, P...|      2|   0.0| 1.0|        Campo Grande|  Zona Oeste|       0.0|   0.0|150000.0|\n",
            "|a1a0c2ac-4fa8-4b0...|    9|       55|        1|[Churrasqueira, E...|      2|   0.0| 1.0|Freguesia (Jacare...|  Zona Oeste|     780.0| 660.0|160000.0|\n",
            "|390d2b88-e06d-47e...|    0|       70|        2|   [Salão de festas]|      2|   0.0| 1.0|          Praça Seca|  Zona Oeste|  420000.0|   0.0|159000.0|\n",
            "|07bb07c1-21cc-4da...|    2|       48|        1|[Condomínio fecha...|      1|   0.0| 0.0|             Piedade|  Zona Norte|      10.0|  10.0|170000.0|\n",
            "|7d3a1bae-988c-44b...|    5|       40|        1|[Playground, Chur...|      2|   0.0| 1.0|        Braz de Pina|  Zona Norte|     150.0| 120.0|189000.0|\n",
            "|47af17f0-1c81-474...|    0|       65|        1|                NULL|      2|   0.0| 1.0|            Campinho|  Zona Oeste|     432.0|   0.0|185000.0|\n",
            "|a9bd1575-e9f2-43d...|    2|       50|        1|[Condomínio fecha...|      1|   0.0| 1.0|           Madureira|  Zona Norte|     650.0|   1.0|185000.0|\n",
            "|cfca7253-3d02-4cd...|    5|       45|        1|[Academia, Churra...|      2|   1.0| 0.0|             Taquara|  Zona Oeste|     150.0|  40.0|199000.0|\n",
            "|b571ae97-e3d8-4fb...|    0|       48|        1|[Academia, Condom...|      2|   0.0| 0.0|          Bonsucesso|  Zona Norte|       0.0|   0.0|205933.0|\n",
            "|eb5fdc65-acae-45f...|    0|       44|        1|[Academia, Condom...|      2|   0.0| 0.0|          Bonsucesso|  Zona Norte|       0.0|   0.0|206000.0|\n",
            "|77cd0388-e3ff-40c...|    2|       64|        1|                NULL|      2|   0.0| 0.0|      Jardim América|  Zona Norte|       0.0|   0.0|220000.0|\n",
            "|74a91f07-7387-4a8...|    0|       55|        2|[Salão de festas,...|      1|   0.0| 1.0|        Engenho Novo|  Zona Norte|     600.0| 652.0|219130.0|\n",
            "|6aab1165-508d-455...|    3|       60|        1|[Animais permitidos]|      3|   0.0| 1.0|           Cascadura|  Zona Norte|      98.0|   1.0|230000.0|\n",
            "+--------------------+-----+---------+---------+--------------------+-------+------+----+--------------------+------------+----------+------+--------+\n",
            "only showing top 20 rows\n",
            "\n"
          ]
        }
      ],
      "source": [
        "# visualizando a transformação\n",
        "dataset\\\n",
        "    .select('*')\\\n",
        "    .na\\\n",
        "    .fill(0)\\\n",
        "    .show()"
      ]
    },
    {
      "cell_type": "code",
      "execution_count": 25,
      "metadata": {
        "id": "gP8nfYCI_Vtu"
      },
      "outputs": [],
      "source": [
        "# aplicando a transformação\n",
        "dataset = dataset\\\n",
        "    .select('*')\\\n",
        "    .na\\\n",
        "    .fill(0)"
      ]
    },
    {
      "cell_type": "markdown",
      "metadata": {
        "id": "srxOdqjGAmn7"
      },
      "source": [
        "Futuramente será abordado os dados nulos da coluna `caracteristicas`. Nesse momento, é necessário analisar a coluna `zona`. Nessa coluna existe uma string vazia."
      ]
    },
    {
      "cell_type": "code",
      "execution_count": 26,
      "metadata": {
        "id": "tJp4gJ3LBaF1",
        "colab": {
          "base_uri": "https://localhost:8080/"
        },
        "outputId": "9c16a8d9-3b22-460a-d967-0be0116ff1ed"
      },
      "outputs": [
        {
          "output_type": "stream",
          "name": "stdout",
          "text": [
            "+------------+-----+\n",
            "|        zona|count|\n",
            "+------------+-----+\n",
            "|  Zona Norte|11897|\n",
            "|  Zona Oeste|32979|\n",
            "|Zona Central| 1144|\n",
            "|    Zona Sul|20531|\n",
            "|            |   11|\n",
            "+------------+-----+\n",
            "\n"
          ]
        }
      ],
      "source": [
        "# contando os registros por zona\n",
        "dataset\\\n",
        "    .select('zona')\\\n",
        "    .groupBy('zona')\\\n",
        "    .count()\\\n",
        "    .show()"
      ]
    },
    {
      "cell_type": "markdown",
      "metadata": {
        "id": "FRO8wd1fD-yq"
      },
      "source": [
        "Pode-se notar que exitem 11 linhas em em uma strig vazia. Elas serão removidas da nossa base de dados."
      ]
    },
    {
      "cell_type": "code",
      "execution_count": 27,
      "metadata": {
        "id": "iF_z4aBNF9Fa"
      },
      "outputs": [],
      "source": [
        "# removendo a string vazia\n",
        "dataset = dataset\\\n",
        "    .where(f.col('zona') != '')"
      ]
    },
    {
      "cell_type": "code",
      "execution_count": 28,
      "metadata": {
        "id": "4n_QX7_6GF1a",
        "colab": {
          "base_uri": "https://localhost:8080/"
        },
        "outputId": "297e4010-b7af-485c-93da-2b1028c149aa"
      },
      "outputs": [
        {
          "output_type": "stream",
          "name": "stdout",
          "text": [
            "+------------+-----+\n",
            "|        zona|count|\n",
            "+------------+-----+\n",
            "|  Zona Norte|11897|\n",
            "|  Zona Oeste|32979|\n",
            "|Zona Central| 1144|\n",
            "|    Zona Sul|20531|\n",
            "+------------+-----+\n",
            "\n"
          ]
        }
      ],
      "source": [
        "# contando os registros por zona\n",
        "dataset\\\n",
        "    .select('zona')\\\n",
        "    .groupBy('zona')\\\n",
        "    .count()\\\n",
        "    .show()"
      ]
    },
    {
      "cell_type": "markdown",
      "metadata": {
        "id": "myY-vPDFYGia"
      },
      "source": [
        "## Preparando os dados para ML\n",
        "\n",
        "Para que seja possível utilizar os dados em um modelo [Machine Learning do Pyspark](https://), é necessário realizar algumas técnicas como transformação de variáveis categóricas em binárias. Além disso, será feira a vetorização dos dados.\n",
        "\n",
        "\n"
      ]
    },
    {
      "cell_type": "markdown",
      "metadata": {
        "id": "BGXsy-U8dEqh"
      },
      "source": [
        "## Variáveis Dummy\n",
        "\n",
        "Esse processo serve para transformar viriáveis categóricas em binárias."
      ]
    },
    {
      "cell_type": "code",
      "execution_count": 29,
      "metadata": {
        "id": "354h0IlkdJPJ",
        "colab": {
          "base_uri": "https://localhost:8080/"
        },
        "outputId": "e6946394-f4ea-43d3-cdf0-2f4761437d71"
      },
      "outputs": [
        {
          "output_type": "stream",
          "name": "stdout",
          "text": [
            "root\n",
            " |-- id: string (nullable = true)\n",
            " |-- andar: integer (nullable = true)\n",
            " |-- area_util: integer (nullable = true)\n",
            " |-- banheiros: integer (nullable = true)\n",
            " |-- caracteristicas: array (nullable = true)\n",
            " |    |-- element: string (containsNull = true)\n",
            " |-- quartos: integer (nullable = true)\n",
            " |-- suites: double (nullable = false)\n",
            " |-- vaga: double (nullable = false)\n",
            " |-- bairro: string (nullable = true)\n",
            " |-- zona: string (nullable = true)\n",
            " |-- condominio: double (nullable = false)\n",
            " |-- iptu: double (nullable = false)\n",
            " |-- valor: double (nullable = false)\n",
            "\n"
          ]
        }
      ],
      "source": [
        "# visualizando a estrutura dos dadoss\n",
        "dataset.printSchema()"
      ]
    },
    {
      "cell_type": "code",
      "execution_count": 30,
      "metadata": {
        "id": "pkqtsrWAg6xe",
        "colab": {
          "base_uri": "https://localhost:8080/"
        },
        "outputId": "d541b593-9a98-43e7-fbc4-0d253f89f443"
      },
      "outputs": [
        {
          "output_type": "stream",
          "name": "stdout",
          "text": [
            "+------------------------------------+-----+---------+---------+-------------------------------------------------------------------------------------------------------------------------------+-------+------+----+------------+----------+----------+----+--------+------------------+\n",
            "|id                                  |andar|area_util|banheiros|caracteristicas                                                                                                                |quartos|suites|vaga|bairro      |zona      |condominio|iptu|valor   |caracteristica    |\n",
            "+------------------------------------+-----+---------+---------+-------------------------------------------------------------------------------------------------------------------------------+-------+------+----+------------+----------+----------+----+--------+------------------+\n",
            "|03a386b6-7ab8-4eff-891d-f8a16efc1989|0    |43       |1        |[Churrasqueira, Academia, Playground, Salão de festas, Condomínio fechado, Portão eletrônico, Portaria 24h, Animais permitidos]|2      |0.0   |1.0 |Realengo    |Zona Oeste|285.0     |0.0 |22999.0 |Churrasqueira     |\n",
            "|03a386b6-7ab8-4eff-891d-f8a16efc1989|0    |43       |1        |[Churrasqueira, Academia, Playground, Salão de festas, Condomínio fechado, Portão eletrônico, Portaria 24h, Animais permitidos]|2      |0.0   |1.0 |Realengo    |Zona Oeste|285.0     |0.0 |22999.0 |Academia          |\n",
            "|03a386b6-7ab8-4eff-891d-f8a16efc1989|0    |43       |1        |[Churrasqueira, Academia, Playground, Salão de festas, Condomínio fechado, Portão eletrônico, Portaria 24h, Animais permitidos]|2      |0.0   |1.0 |Realengo    |Zona Oeste|285.0     |0.0 |22999.0 |Playground        |\n",
            "|03a386b6-7ab8-4eff-891d-f8a16efc1989|0    |43       |1        |[Churrasqueira, Academia, Playground, Salão de festas, Condomínio fechado, Portão eletrônico, Portaria 24h, Animais permitidos]|2      |0.0   |1.0 |Realengo    |Zona Oeste|285.0     |0.0 |22999.0 |Salão de festas   |\n",
            "|03a386b6-7ab8-4eff-891d-f8a16efc1989|0    |43       |1        |[Churrasqueira, Academia, Playground, Salão de festas, Condomínio fechado, Portão eletrônico, Portaria 24h, Animais permitidos]|2      |0.0   |1.0 |Realengo    |Zona Oeste|285.0     |0.0 |22999.0 |Condomínio fechado|\n",
            "|03a386b6-7ab8-4eff-891d-f8a16efc1989|0    |43       |1        |[Churrasqueira, Academia, Playground, Salão de festas, Condomínio fechado, Portão eletrônico, Portaria 24h, Animais permitidos]|2      |0.0   |1.0 |Realengo    |Zona Oeste|285.0     |0.0 |22999.0 |Portão eletrônico |\n",
            "|03a386b6-7ab8-4eff-891d-f8a16efc1989|0    |43       |1        |[Churrasqueira, Academia, Playground, Salão de festas, Condomínio fechado, Portão eletrônico, Portaria 24h, Animais permitidos]|2      |0.0   |1.0 |Realengo    |Zona Oeste|285.0     |0.0 |22999.0 |Portaria 24h      |\n",
            "|03a386b6-7ab8-4eff-891d-f8a16efc1989|0    |43       |1        |[Churrasqueira, Academia, Playground, Salão de festas, Condomínio fechado, Portão eletrônico, Portaria 24h, Animais permitidos]|2      |0.0   |1.0 |Realengo    |Zona Oeste|285.0     |0.0 |22999.0 |Animais permitidos|\n",
            "|40a2cbde-946b-42da-b7f2-b80057c7a47f|2    |47       |1        |[Condomínio fechado, Portaria 24h, Salão de festas, Churrasqueira, Piscina, Animais permitidos]                                |2      |0.0   |1.0 |Campo Grande|Zona Oeste|380.0     |0.0 |138000.0|Condomínio fechado|\n",
            "|40a2cbde-946b-42da-b7f2-b80057c7a47f|2    |47       |1        |[Condomínio fechado, Portaria 24h, Salão de festas, Churrasqueira, Piscina, Animais permitidos]                                |2      |0.0   |1.0 |Campo Grande|Zona Oeste|380.0     |0.0 |138000.0|Portaria 24h      |\n",
            "|40a2cbde-946b-42da-b7f2-b80057c7a47f|2    |47       |1        |[Condomínio fechado, Portaria 24h, Salão de festas, Churrasqueira, Piscina, Animais permitidos]                                |2      |0.0   |1.0 |Campo Grande|Zona Oeste|380.0     |0.0 |138000.0|Salão de festas   |\n",
            "|40a2cbde-946b-42da-b7f2-b80057c7a47f|2    |47       |1        |[Condomínio fechado, Portaria 24h, Salão de festas, Churrasqueira, Piscina, Animais permitidos]                                |2      |0.0   |1.0 |Campo Grande|Zona Oeste|380.0     |0.0 |138000.0|Churrasqueira     |\n",
            "|40a2cbde-946b-42da-b7f2-b80057c7a47f|2    |47       |1        |[Condomínio fechado, Portaria 24h, Salão de festas, Churrasqueira, Piscina, Animais permitidos]                                |2      |0.0   |1.0 |Campo Grande|Zona Oeste|380.0     |0.0 |138000.0|Piscina           |\n",
            "|40a2cbde-946b-42da-b7f2-b80057c7a47f|2    |47       |1        |[Condomínio fechado, Portaria 24h, Salão de festas, Churrasqueira, Piscina, Animais permitidos]                                |2      |0.0   |1.0 |Campo Grande|Zona Oeste|380.0     |0.0 |138000.0|Animais permitidos|\n",
            "|be269ddf-a4a3-4a72-bd54-93cdccf512dd|0    |45       |1        |[Churrasqueira, Condomínio fechado, Piscina]                                                                                   |2      |0.0   |1.0 |Campo Grande|Zona Oeste|356.0     |0.0 |140000.0|Churrasqueira     |\n",
            "+------------------------------------+-----+---------+---------+-------------------------------------------------------------------------------------------------------------------------------+-------+------+----+------------+----------+----------+----+--------+------------------+\n",
            "only showing top 15 rows\n",
            "\n"
          ]
        }
      ],
      "source": [
        "# expandindo a coluna \"caracteristicas\" em múltiplas linhas\n",
        "dataset.select(\"*\", f.explode(\"caracteristicas\").alias(\"caracteristica\")).show(15, truncate = False)"
      ]
    },
    {
      "cell_type": "code",
      "execution_count": 31,
      "metadata": {
        "id": "04GWqPckpQbl",
        "colab": {
          "base_uri": "https://localhost:8080/"
        },
        "outputId": "9e888ea1-c663-46fe-87d5-a9f51f76ea16"
      },
      "outputs": [
        {
          "output_type": "stream",
          "name": "stdout",
          "text": [
            "+------------------------------------+--------+------------------+-------------+------------------+--------+-------+----------+------------+-----------------+---------------+\n",
            "|id                                  |Academia|Animais permitidos|Churrasqueira|Condomínio fechado|Elevador|Piscina|Playground|Portaria 24h|Portão eletrônico|Salão de festas|\n",
            "+------------------------------------+--------+------------------+-------------+------------------+--------+-------+----------+------------+-----------------+---------------+\n",
            "|fd96bbd5-d631-416a-9f84-29091cefe14c|1       |1                 |1            |1                 |1       |1      |1         |1           |1                |1              |\n",
            "|bfffedfe-99e7-4aed-9a9f-f766225a0f1f|0       |1                 |1            |1                 |1       |0      |1         |0           |1                |1              |\n",
            "|fcb67af3-5601-415f-9d1f-75280923a4e3|1       |1                 |1            |0                 |0       |1      |1         |0           |0                |1              |\n",
            "|afecddff-f4cc-4ab8-bdbf-242b7dff7241|1       |1                 |1            |1                 |1       |1      |1         |1           |1                |1              |\n",
            "|1bbc40f3-4f5c-4595-99b1-56ef42a54ede|1       |0                 |0            |1                 |1       |1      |1         |1           |1                |1              |\n",
            "|fd26aeb2-a7b3-4f80-97ed-fe3eb928c123|1       |1                 |1            |1                 |1       |1      |1         |1           |1                |1              |\n",
            "|10e9d118-dbad-43c3-879d-6def0d60f8ed|0       |1                 |1            |1                 |0       |1      |1         |1           |1                |1              |\n",
            "|ca1e84d7-86c8-4b1e-aa5a-db99c8c9d0d3|1       |0                 |1            |1                 |1       |1      |1         |1           |1                |1              |\n",
            "|d9e139a5-e85d-4e1b-b77f-1b120d146fb3|1       |1                 |1            |1                 |1       |1      |1         |1           |1                |1              |\n",
            "|156a1fa5-37ca-43db-8448-df4a35f45496|1       |0                 |1            |1                 |1       |1      |1         |1           |1                |1              |\n",
            "|e7be09eb-6223-4b41-b255-30a5f7d67771|1       |1                 |1            |1                 |1       |1      |1         |1           |1                |1              |\n",
            "|631efda0-5e10-422c-990a-f6c47f6ec4c7|1       |1                 |1            |1                 |1       |1      |1         |1           |1                |1              |\n",
            "|07cbfef2-efbf-4e89-a023-db65e76cc820|0       |1                 |0            |0                 |1       |0      |0         |1           |0                |0              |\n",
            "|62baf185-103d-4489-956a-d2cc707a66cd|1       |0                 |1            |1                 |0       |1      |1         |0           |0                |0              |\n",
            "|3030d17c-5681-4b2f-b333-3e363a92ddda|1       |1                 |1            |1                 |1       |1      |0         |1           |1                |1              |\n",
            "|6179c8a4-1fd2-4f54-a91d-68d1ba80dd26|1       |1                 |0            |1                 |1       |1      |1         |1           |1                |1              |\n",
            "|c284072a-7298-4e5a-bc0b-a90b3a0f17fc|1       |1                 |1            |1                 |1       |1      |1         |1           |1                |1              |\n",
            "|7e43514c-3b40-4fbd-9ad4-1fcac078134d|1       |1                 |1            |1                 |1       |1      |1         |1           |1                |1              |\n",
            "|6a4ce9ac-1eb0-4d4b-9a65-5e6d842777bf|1       |0                 |1            |0                 |1       |1      |1         |0           |0                |1              |\n",
            "|bdc6127a-1d97-41b4-a736-85122e76bd5e|1       |0                 |1            |0                 |0       |0      |0         |0           |0                |1              |\n",
            "+------------------------------------+--------+------------------+-------------+------------------+--------+-------+----------+------------+-----------------+---------------+\n",
            "only showing top 20 rows\n",
            "\n"
          ]
        }
      ],
      "source": [
        "# atribuindo o valor 1 quando a característica está presente\n",
        "# atribuindo o valor 0 quando a característica está ausente\n",
        "dataset\\\n",
        "    .select(\"*\", f.explode(\"caracteristicas\").alias(\"cara\"))\\\n",
        "    .groupBy(\"id\")\\\n",
        "    .pivot('cara')\\\n",
        "    .agg(f.lit(1))\\\n",
        "    .na\\\n",
        "    .fill(0)\\\n",
        "    .show(truncate=False)"
      ]
    },
    {
      "cell_type": "code",
      "execution_count": 32,
      "metadata": {
        "id": "hI7tskC0uOYB"
      },
      "outputs": [],
      "source": [
        "# aplicando as transformações a uma variável\n",
        "caracteristicas = dataset\\\n",
        "    .select(\"*\", f.explode(\"caracteristicas\").alias(\"cara\"))\\\n",
        "    .groupBy(\"id\")\\\n",
        "    .pivot('cara')\\\n",
        "    .agg(f.lit(1))"
      ]
    },
    {
      "cell_type": "markdown",
      "metadata": {
        "id": "AgTzWa_BtfQh"
      },
      "source": [
        "O mesmo processo feito com a coluna `caracteristicas` será feito com a coluna `zona`. Cada uma das zonas da coluna `zonas` será será transformada em colunas separadas."
      ]
    },
    {
      "cell_type": "code",
      "execution_count": 33,
      "metadata": {
        "id": "yJnWqCKH1clD"
      },
      "outputs": [],
      "source": [
        "# aplicando as transformações a uma variável\n",
        "zona = dataset\\\n",
        "    .groupBy(\"id\")\\\n",
        "    .pivot('zona')\\\n",
        "    .agg(f.lit(1))"
      ]
    },
    {
      "cell_type": "code",
      "execution_count": 34,
      "metadata": {
        "id": "j9DZhlmd2I4c",
        "colab": {
          "base_uri": "https://localhost:8080/"
        },
        "outputId": "9ca80924-080d-4bb1-e503-f686889ae244"
      },
      "outputs": [
        {
          "output_type": "stream",
          "name": "stdout",
          "text": [
            "+------------------------------------+-----+---------+---------+-------------------------------------------------------------------------------------------------------------------------------+-------+------+----+-----------------------+------------+----------+------+--------+\n",
            "|id                                  |andar|area_util|banheiros|caracteristicas                                                                                                                |quartos|suites|vaga|bairro                 |zona        |condominio|iptu  |valor   |\n",
            "+------------------------------------+-----+---------+---------+-------------------------------------------------------------------------------------------------------------------------------+-------+------+----+-----------------------+------------+----------+------+--------+\n",
            "|03a386b6-7ab8-4eff-891d-f8a16efc1989|0    |43       |1        |[Churrasqueira, Academia, Playground, Salão de festas, Condomínio fechado, Portão eletrônico, Portaria 24h, Animais permitidos]|2      |0.0   |1.0 |Realengo               |Zona Oeste  |285.0     |0.0   |22999.0 |\n",
            "|1fe78d41-b8e0-4d21-a1a8-72cb7863f441|0    |44       |1        |NULL                                                                                                                           |2      |0.0   |0.0 |Irajá                  |Zona Norte  |170.0     |0.0   |110000.0|\n",
            "|1fa1c1e5-e98c-433f-9675-1b43d7d6da01|4    |55       |1        |NULL                                                                                                                           |2      |0.0   |1.0 |Cosmos                 |Zona Oeste  |0.0       |0.0   |115000.0|\n",
            "|a6ab01ae-3d40-40e7-bb6a-f2334e0abbe0|2    |55       |1        |NULL                                                                                                                           |2      |0.0   |0.0 |Tomás Coelho           |Zona Norte  |0.0       |0.0   |115000.0|\n",
            "|1d8ff7a2-16bd-4e3f-a92e-1b85f923ebb0|0    |50       |1        |NULL                                                                                                                           |1      |0.0   |0.0 |Centro                 |Zona Central|1300.0    |2679.0|125000.0|\n",
            "|40a2cbde-946b-42da-b7f2-b80057c7a47f|2    |47       |1        |[Condomínio fechado, Portaria 24h, Salão de festas, Churrasqueira, Piscina, Animais permitidos]                                |2      |0.0   |1.0 |Campo Grande           |Zona Oeste  |380.0     |0.0   |138000.0|\n",
            "|be269ddf-a4a3-4a72-bd54-93cdccf512dd|0    |45       |1        |[Churrasqueira, Condomínio fechado, Piscina]                                                                                   |2      |0.0   |1.0 |Campo Grande           |Zona Oeste  |356.0     |0.0   |140000.0|\n",
            "|4b7e3d59-34fd-4bac-9232-1015cb3b3a24|3    |48       |1        |[Churrasqueira, Piscina, Playground, Salão de festas, Condomínio fechado, Portão eletrônico, Portaria 24h, Animais permitidos] |2      |0.0   |1.0 |Campo Grande           |Zona Oeste  |0.0       |0.0   |150000.0|\n",
            "|a1a0c2ac-4fa8-4b02-a087-f9d76b6bccb7|9    |55       |1        |[Churrasqueira, Elevador, Salão de festas, Condomínio fechado, Portão eletrônico, Portaria 24h, Animais permitidos]            |2      |0.0   |1.0 |Freguesia (Jacarepaguá)|Zona Oeste  |780.0     |660.0 |160000.0|\n",
            "|390d2b88-e06d-47e5-ba7f-a680130ac5f0|0    |70       |2        |[Salão de festas]                                                                                                              |2      |0.0   |1.0 |Praça Seca             |Zona Oeste  |420000.0  |0.0   |159000.0|\n",
            "+------------------------------------+-----+---------+---------+-------------------------------------------------------------------------------------------------------------------------------+-------+------+----+-----------------------+------------+----------+------+--------+\n",
            "only showing top 10 rows\n",
            "\n"
          ]
        }
      ],
      "source": [
        "dataset.show(10, truncate=False)"
      ]
    },
    {
      "cell_type": "code",
      "execution_count": 35,
      "metadata": {
        "id": "ZPFyngoo2fNo"
      },
      "outputs": [],
      "source": [
        "# contando a quantidade total de linhas do dataset original\n",
        "count_rows_original = dataset.count()"
      ]
    },
    {
      "cell_type": "code",
      "execution_count": 36,
      "metadata": {
        "id": "7JdtC9n32gHE"
      },
      "outputs": [],
      "source": [
        "# juntando os dados\n",
        "dataset = dataset\\\n",
        "    .join(zona, 'id', how='inner')\\\n",
        "    .join(caracteristicas, 'id', how='left')\\\n",
        "    .drop('zona', 'cara', 'caracteristicas')\\\n",
        "    .na\\\n",
        "    .fill(0)"
      ]
    },
    {
      "cell_type": "code",
      "source": [
        "# comparando se o join funcionou corretamente\n",
        "# verificando se ainda se mantiveras as mesmas quantidades de linhas\n",
        "print(\"Quantidade de linhas antes: \", count_rows_original)\n",
        "print(\"Quantidade de linhas depois: \", dataset.count())\n",
        "print(\"Quantidade de linhas perdidas: \", count_rows_original - dataset.count())"
      ],
      "metadata": {
        "colab": {
          "base_uri": "https://localhost:8080/"
        },
        "id": "SaVXcm5Wi7Wc",
        "outputId": "313610b6-ea24-4f7b-c7ca-5f465ec72183"
      },
      "execution_count": 37,
      "outputs": [
        {
          "output_type": "stream",
          "name": "stdout",
          "text": [
            "Quantidade de linhas antes:  66551\n",
            "Quantidade de linhas depois:  66551\n",
            "Quantidade de linhas perdidas:  0\n"
          ]
        }
      ]
    },
    {
      "cell_type": "code",
      "source": [
        "# visualizando o Dataset\n",
        "dataset.show(5)"
      ],
      "metadata": {
        "colab": {
          "base_uri": "https://localhost:8080/"
        },
        "id": "dAw0R_T_jb85",
        "outputId": "014df2ac-0877-4045-f9e1-9c5cfed81772"
      },
      "execution_count": 38,
      "outputs": [
        {
          "output_type": "stream",
          "name": "stdout",
          "text": [
            "+--------------------+-----+---------+---------+-------+------+----+-----------+----------+------+---------+------------+----------+----------+--------+--------+------------------+-------------+------------------+--------+-------+----------+------------+-----------------+---------------+\n",
            "|                  id|andar|area_util|banheiros|quartos|suites|vaga|     bairro|condominio|  iptu|    valor|Zona Central|Zona Norte|Zona Oeste|Zona Sul|Academia|Animais permitidos|Churrasqueira|Condomínio fechado|Elevador|Piscina|Playground|Portaria 24h|Portão eletrônico|Salão de festas|\n",
            "+--------------------+-----+---------+---------+-------+------+----+-----------+----------+------+---------+------------+----------+----------+--------+--------+------------------+-------------+------------------+--------+-------+----------+------------+-----------------+---------------+\n",
            "|02fba6ef-a691-442...|    3|       64|        1|      2|   2.0| 1.0|Jacarepaguá|     784.0|  80.0| 380000.0|           0|         0|         1|       0|       1|                 1|            1|                 1|       1|      1|         1|           1|                1|              1|\n",
            "|3dd5d200-0a7f-43d...|    0|      170|        3|      4|   1.0| 1.0|Cosme Velho|    2250.0|3000.0|1450000.0|           0|         0|         0|       1|       0|                 0|            0|                 0|       1|      0|         0|           0|                0|              0|\n",
            "|4e47e4d4-3326-4eb...|    0|       90|        2|      3|   1.0| 0.0| Copacabana|     950.0|2677.0| 949020.0|           0|         0|         0|       1|       0|                 0|            0|                 0|       1|      0|         0|           0|                0|              0|\n",
            "|82707939-71bd-40c...|    0|      525|        4|      4|   2.0| 2.0|   Flamengo|    5000.0|2100.0|5199000.0|           0|         0|         0|       1|       0|                 0|            0|                 0|       0|      0|         0|           0|                0|              0|\n",
            "|ece1e671-cb4d-48a...|    0|       50|        1|      2|   0.0| 1.0|     Centro|     320.0|  80.0| 330000.0|           1|         0|         0|       0|       1|                 1|            1|                 1|       1|      1|         1|           1|                1|              1|\n",
            "+--------------------+-----+---------+---------+-------+------+----+-----------+----------+------+---------+------------+----------+----------+--------+--------+------------------+-------------+------------------+--------+-------+----------+------------+-----------------+---------------+\n",
            "only showing top 5 rows\n",
            "\n"
          ]
        }
      ]
    },
    {
      "cell_type": "code",
      "source": [
        "# conferindo o ID e se as colunas dummies referentes a esse ID estão corretas\n",
        "dataset.filter(f.col('id')==\"be269ddf-a4a3-4a72-bd54-93cdccf512dd\").show(5)"
      ],
      "metadata": {
        "colab": {
          "base_uri": "https://localhost:8080/"
        },
        "id": "eM734qB_jgxG",
        "outputId": "f275e747-2a7f-43c3-9fb4-276b9fdfc2d8"
      },
      "execution_count": 39,
      "outputs": [
        {
          "output_type": "stream",
          "name": "stdout",
          "text": [
            "+--------------------+-----+---------+---------+-------+------+----+------------+----------+----+--------+------------+----------+----------+--------+--------+------------------+-------------+------------------+--------+-------+----------+------------+-----------------+---------------+\n",
            "|                  id|andar|area_util|banheiros|quartos|suites|vaga|      bairro|condominio|iptu|   valor|Zona Central|Zona Norte|Zona Oeste|Zona Sul|Academia|Animais permitidos|Churrasqueira|Condomínio fechado|Elevador|Piscina|Playground|Portaria 24h|Portão eletrônico|Salão de festas|\n",
            "+--------------------+-----+---------+---------+-------+------+----+------------+----------+----+--------+------------+----------+----------+--------+--------+------------------+-------------+------------------+--------+-------+----------+------------+-----------------+---------------+\n",
            "|be269ddf-a4a3-4a7...|    0|       45|        1|      2|   0.0| 1.0|Campo Grande|     356.0| 0.0|140000.0|           0|         0|         1|       0|       0|                 0|            1|                 1|       0|      1|         0|           0|                0|              0|\n",
            "+--------------------+-----+---------+---------+-------+------+----+------------+----------+----+--------+------------+----------+----------+--------+--------+------------------+-------------+------------------+--------+-------+----------+------------+-----------------+---------------+\n",
            "\n"
          ]
        }
      ]
    },
    {
      "cell_type": "markdown",
      "source": [
        "## Salvando os dados em parquet\n",
        "Agora que a base de dados está tratada de forma correta para ser utilizada em um modelo de machine learning, é importante importá-la. Assim será possível utilizar essa base na próxima etapa do projeto."
      ],
      "metadata": {
        "id": "1kwhMiPGkiy0"
      }
    },
    {
      "cell_type": "code",
      "source": [
        "# salvando os dados no formato parquet\n",
        "dataset.write.parquet(\"dados_salvos/dataset_ml_regressao\")"
      ],
      "metadata": {
        "id": "rykIbEoWkmnk"
      },
      "execution_count": 40,
      "outputs": []
    }
  ],
  "metadata": {
    "colab": {
      "toc_visible": true,
      "provenance": [],
      "authorship_tag": "ABX9TyPs39mQ8SAv2sFwPFwoHeqA",
      "include_colab_link": true
    },
    "kernelspec": {
      "display_name": "Python 3",
      "name": "python3"
    },
    "language_info": {
      "name": "python"
    }
  },
  "nbformat": 4,
  "nbformat_minor": 0
}