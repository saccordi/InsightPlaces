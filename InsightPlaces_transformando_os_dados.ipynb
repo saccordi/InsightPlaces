{
  "cells": [
    {
      "cell_type": "markdown",
      "metadata": {
        "id": "view-in-github",
        "colab_type": "text"
      },
      "source": [
        "<a href=\"https://colab.research.google.com/github/saccordi/InsightPlaces/blob/master/InsightPlaces_transformando_os_dados.ipynb\" target=\"_parent\"><img src=\"https://colab.research.google.com/assets/colab-badge.svg\" alt=\"Open In Colab\"/></a>"
      ]
    },
    {
      "cell_type": "markdown",
      "source": [
        "# **Bem-vindo(a) ao meu notebook!**\n",
        "Com o objetivo de ajudar a imobiliária *InsightPlaces* no seu problema de mercado, é necessário começar com o processo de transformação de dados.\n",
        "\n",
        "Ao longo desse noteebook, serão realizados algumas modificações nos dados brutos como remoção e seleção de informações, alteração de tipo de dados e junçõa de informações. Por fim, o resultado das transformacões será salvo no formato parquet que possui uma performance melhor em relação ao cvs."
      ],
      "metadata": {
        "id": "f6rfcOcaAeze"
      }
    },
    {
      "cell_type": "code",
      "execution_count": null,
      "metadata": {
        "id": "aLj6EOZEHFdk",
        "colab": {
          "base_uri": "https://localhost:8080/"
        },
        "outputId": "94c6f5ef-8dd9-4518-9465-104b2b18db9f"
      },
      "outputs": [
        {
          "output_type": "stream",
          "name": "stdout",
          "text": [
            "Collecting pyspark\n",
            "  Downloading pyspark-3.5.0.tar.gz (316.9 MB)\n",
            "\u001b[2K     \u001b[90m━━━━━━━━━━━━━━━━━━━━━━━━━━━━━━━━━━━━━━━━\u001b[0m \u001b[32m316.9/316.9 MB\u001b[0m \u001b[31m1.2 MB/s\u001b[0m eta \u001b[36m0:00:00\u001b[0m\n",
            "\u001b[?25h  Preparing metadata (setup.py) ... \u001b[?25l\u001b[?25hdone\n",
            "Requirement already satisfied: py4j==0.10.9.7 in /usr/local/lib/python3.10/dist-packages (from pyspark) (0.10.9.7)\n",
            "Building wheels for collected packages: pyspark\n",
            "  Building wheel for pyspark (setup.py) ... \u001b[?25l\u001b[?25hdone\n",
            "  Created wheel for pyspark: filename=pyspark-3.5.0-py2.py3-none-any.whl size=317425344 sha256=fcf487b30623df3e0d959799b2b20d13e91f5c26722d849436246e2793428b7a\n",
            "  Stored in directory: /root/.cache/pip/wheels/41/4e/10/c2cf2467f71c678cfc8a6b9ac9241e5e44a01940da8fbb17fc\n",
            "Successfully built pyspark\n",
            "Installing collected packages: pyspark\n",
            "Successfully installed pyspark-3.5.0\n"
          ]
        }
      ],
      "source": [
        "# instalando o PySpark\n",
        "!pip install pyspark"
      ]
    },
    {
      "cell_type": "code",
      "execution_count": null,
      "metadata": {
        "id": "paQxecbEHP21",
        "colab": {
          "base_uri": "https://localhost:8080/",
          "height": 219
        },
        "outputId": "e258d5c7-0954-49e5-e49c-f1e346d3d1f8"
      },
      "outputs": [
        {
          "output_type": "execute_result",
          "data": {
            "text/plain": [
              "<pyspark.sql.session.SparkSession at 0x7becd014eda0>"
            ],
            "text/html": [
              "\n",
              "            <div>\n",
              "                <p><b>SparkSession - in-memory</b></p>\n",
              "                \n",
              "        <div>\n",
              "            <p><b>SparkContext</b></p>\n",
              "\n",
              "            <p><a href=\"http://e89417f5591a:4040\">Spark UI</a></p>\n",
              "\n",
              "            <dl>\n",
              "              <dt>Version</dt>\n",
              "                <dd><code>v3.5.0</code></dd>\n",
              "              <dt>Master</dt>\n",
              "                <dd><code>local[*]</code></dd>\n",
              "              <dt>AppName</dt>\n",
              "                <dd><code>Transformacao com Spark</code></dd>\n",
              "            </dl>\n",
              "        </div>\n",
              "        \n",
              "            </div>\n",
              "        "
            ]
          },
          "metadata": {},
          "execution_count": 2
        }
      ],
      "source": [
        "# iniciando uma sessão Spark\n",
        "from pyspark.sql import SparkSession\n",
        "\n",
        "spark = SparkSession.builder \\\n",
        "    .master('local[*]') \\\n",
        "    .appName(\"Transformacao com Spark\") \\\n",
        "    .getOrCreate()\n",
        "\n",
        "spark"
      ]
    },
    {
      "cell_type": "markdown",
      "metadata": {
        "id": "O1-dJ_gnBzAA"
      },
      "source": [
        "## Obtenção dos dados\n",
        "Os dados foram disponibilizados pela própria *InsightPlaces* e estão no formato JSON que contem uma estrutura complexa com arrays e structs."
      ]
    },
    {
      "cell_type": "code",
      "execution_count": null,
      "metadata": {
        "colab": {
          "base_uri": "https://localhost:8080/"
        },
        "id": "_WY76HueE3fW",
        "outputId": "e2c7111c-8c6b-44bb-d0c1-7aa885223d9a"
      },
      "outputs": [
        {
          "output_type": "stream",
          "name": "stdout",
          "text": [
            "--2023-11-22 21:55:55--  https://caelum-online-public.s3.amazonaws.com/challenge-spark/semana-1.zip\n",
            "Resolving caelum-online-public.s3.amazonaws.com (caelum-online-public.s3.amazonaws.com)... 52.216.42.217, 52.217.230.193, 52.216.79.44, ...\n",
            "Connecting to caelum-online-public.s3.amazonaws.com (caelum-online-public.s3.amazonaws.com)|52.216.42.217|:443... connected.\n",
            "HTTP request sent, awaiting response... 200 OK\n",
            "Length: 18975214 (18M) [application/zip]\n",
            "Saving to: ‘semana-1.zip’\n",
            "\n",
            "semana-1.zip        100%[===================>]  18.10M  21.3MB/s    in 0.8s    \n",
            "\n",
            "2023-11-22 21:55:57 (21.3 MB/s) - ‘semana-1.zip’ saved [18975214/18975214]\n",
            "\n",
            "Archive:  semana-1.zip\n",
            "  inflating: dados/dataset_bruto.json  \n"
          ]
        }
      ],
      "source": [
        "# obtendo os dados dos imóveis\n",
        "!wget 'https://caelum-online-public.s3.amazonaws.com/challenge-spark/semana-1.zip' && unzip semana-1.zip -d dados/"
      ]
    },
    {
      "cell_type": "code",
      "execution_count": null,
      "metadata": {
        "id": "vbCSNKNlHAdV"
      },
      "outputs": [],
      "source": [
        "# realizando a leitura da base de dados\n",
        "dados = spark.read.json(\n",
        "    'dados/dataset_bruto.json'\n",
        ")"
      ]
    },
    {
      "cell_type": "code",
      "execution_count": null,
      "metadata": {
        "id": "HuUSaJaJMjjd",
        "colab": {
          "base_uri": "https://localhost:8080/"
        },
        "outputId": "30e08dcf-5ea0-4d12-8802-0ad980fb9873"
      },
      "outputs": [
        {
          "output_type": "stream",
          "name": "stdout",
          "text": [
            "root\n",
            " |-- anuncio: struct (nullable = true)\n",
            " |    |-- andar: long (nullable = true)\n",
            " |    |-- area_total: array (nullable = true)\n",
            " |    |    |-- element: string (containsNull = true)\n",
            " |    |-- area_util: array (nullable = true)\n",
            " |    |    |-- element: string (containsNull = true)\n",
            " |    |-- banheiros: array (nullable = true)\n",
            " |    |    |-- element: long (containsNull = true)\n",
            " |    |-- caracteristicas: array (nullable = true)\n",
            " |    |    |-- element: string (containsNull = true)\n",
            " |    |-- endereco: struct (nullable = true)\n",
            " |    |    |-- bairro: string (nullable = true)\n",
            " |    |    |-- cep: string (nullable = true)\n",
            " |    |    |-- cidade: string (nullable = true)\n",
            " |    |    |-- estado: string (nullable = true)\n",
            " |    |    |-- latitude: double (nullable = true)\n",
            " |    |    |-- longitude: double (nullable = true)\n",
            " |    |    |-- pais: string (nullable = true)\n",
            " |    |    |-- rua: string (nullable = true)\n",
            " |    |    |-- zona: string (nullable = true)\n",
            " |    |-- id: string (nullable = true)\n",
            " |    |-- quartos: array (nullable = true)\n",
            " |    |    |-- element: long (containsNull = true)\n",
            " |    |-- suites: array (nullable = true)\n",
            " |    |    |-- element: long (containsNull = true)\n",
            " |    |-- tipo_anuncio: string (nullable = true)\n",
            " |    |-- tipo_unidade: string (nullable = true)\n",
            " |    |-- tipo_uso: string (nullable = true)\n",
            " |    |-- vaga: array (nullable = true)\n",
            " |    |    |-- element: long (containsNull = true)\n",
            " |    |-- valores: array (nullable = true)\n",
            " |    |    |-- element: struct (containsNull = true)\n",
            " |    |    |    |-- condominio: string (nullable = true)\n",
            " |    |    |    |-- iptu: string (nullable = true)\n",
            " |    |    |    |-- tipo: string (nullable = true)\n",
            " |    |    |    |-- valor: string (nullable = true)\n",
            " |-- imagens: array (nullable = true)\n",
            " |    |-- element: struct (containsNull = true)\n",
            " |    |    |-- id: string (nullable = true)\n",
            " |    |    |-- url: string (nullable = true)\n",
            " |-- usuario: struct (nullable = true)\n",
            " |    |-- id: string (nullable = true)\n",
            " |    |-- nome: string (nullable = true)\n",
            "\n"
          ]
        }
      ],
      "source": [
        "# analisando a estrutura da base de dados\n",
        "dados.printSchema()"
      ]
    },
    {
      "cell_type": "code",
      "execution_count": null,
      "metadata": {
        "id": "xenpWvoeRAkI",
        "colab": {
          "base_uri": "https://localhost:8080/"
        },
        "outputId": "640de541-ced0-4966-b1e6-8bdd00dc510b"
      },
      "outputs": [
        {
          "output_type": "stream",
          "name": "stdout",
          "text": [
            "Número de linhas do conjunto de dados: 89083\n"
          ]
        }
      ],
      "source": [
        "# analisando o número de linhas e colunas do conjunto de dados\n",
        "print(\"Número de linhas do conjunto de dados:\", dados.count())"
      ]
    },
    {
      "cell_type": "markdown",
      "metadata": {
        "id": "di-pcq0IPww4"
      },
      "source": [
        "## Seleção dos dados\n",
        "Para nossa análise, apenas as informações do campo `anuncio` serão relevantes. Por isso, vamos focar em analisar as colunas desse campo."
      ]
    },
    {
      "cell_type": "markdown",
      "metadata": {
        "id": "YMFVMD2iESQo"
      },
      "source": [
        "### Dicionário de dados\n",
        "\n",
        "\n",
        "| Colunas         | Descrição                                                      |\n",
        "|-----------------|----------------------------------------------------------------|\n",
        "| id              | Código de identificação do anúncio no sistema da InsightPlaces |\n",
        "| tipo_unidade    | Tipo de imóvel (apartamento, casa e outros)                    |\n",
        "| tipo_uso        | Tipo de uso do imóvel (residencial ou comercial)               |\n",
        "| area_total      | Área total do imóvel (construção e terreno)                    |\n",
        "| area_util       | Área construída do imóvel                                      |\n",
        "| quartos         | Quantidade de quartos do imóvel                                |\n",
        "| suites          | Quantidade de suítes do imóvel                                 |\n",
        "| banheiros       | Quantidade de banheiros do imóvel                              |\n",
        "| vaga            | Quantidade de vagas de garagem do imóvel                       |\n",
        "| caracteristicas | Listagem de características do imóvel                          |\n",
        "| andar           | Número do andar do imóvel                                      |\n",
        "| endereco        | Informações sobre o endereço do imóvel                         |\n",
        "| valores         | Informações sobre valores de venda e locação dos imóveis       |"
      ]
    },
    {
      "cell_type": "code",
      "execution_count": null,
      "metadata": {
        "id": "Fcy_lYuPQAF3",
        "colab": {
          "base_uri": "https://localhost:8080/"
        },
        "outputId": "0d2b9eee-1037-4478-83f8-602a1e5c4db5"
      },
      "outputs": [
        {
          "output_type": "stream",
          "name": "stdout",
          "text": [
            "+-----+----------+---------+---------+-------------------------------------------------------------------------------------------------------------------------------+-----------------------------------------------------------------------------------------------------------------------------+------------------------------------+-------+------+------------+------------+-----------+----+----------------------------+\n",
            "|andar|area_total|area_util|banheiros|caracteristicas                                                                                                                |endereco                                                                                                                     |id                                  |quartos|suites|tipo_anuncio|tipo_unidade|tipo_uso   |vaga|valores                     |\n",
            "+-----+----------+---------+---------+-------------------------------------------------------------------------------------------------------------------------------+-----------------------------------------------------------------------------------------------------------------------------+------------------------------------+-------+------+------------+------------+-----------+----+----------------------------+\n",
            "|0    |[]        |[16]     |[0]      |[]                                                                                                                             |{Centro, 20061003, Rio de Janeiro, Rio de Janeiro, -22.906082, -43.18671, BR, Rua Buenos Aires, Zona Central}                |47d553e0-79f2-4a46-9390-5a3c962740c2|[0]    |[0]   |Usado       |Outros      |Comercial  |[1] |[{260, 107, Venda, 10000}]  |\n",
            "|0    |[]        |[14]     |[0]      |[]                                                                                                                             |{Centro, 20051040, Rio de Janeiro, Rio de Janeiro, -22.902536, -43.18434, BR, Avenida Passos, Zona Central}                  |b6ffbae1-17f6-4870-9950-e998ac1c8d6a|[0]    |[]    |Usado       |Outros      |Comercial  |[0] |[{260, 107, Venda, 10000}]  |\n",
            "|0    |[1026]    |[1026]   |[0]      |[]                                                                                                                             |{Maria da Graça, 20785360, Rio de Janeiro, Rio de Janeiro, -22.885516, -43.269083, BR, Rua Luís de Brito, Zona Norte}        |1fb030a5-9e3e-4a1d-93cd-cd2d8a215e11|[0]    |[]    |Usado       |Outros      |Comercial  |[0] |[{NULL, 1613, Venda, 10000}]|\n",
            "|0    |[120]     |[120]    |[0]      |[Portão eletrônico, Condomínio fechado]                                                                                        |{Campo Grande, 23095071, Rio de Janeiro, Rio de Janeiro, -22.885028, -43.561668, BR, Estrada Guandu do Sape, Zona Oeste}     |ac6cb348-69d6-45af-9589-dc34099370d8|[0]    |[]    |Usado       |Outros      |Residencial|[]  |[{80, NULL, Venda, 10000}]  |\n",
            "|0    |[3]       |[3]      |[0]      |[]                                                                                                                             |{São Cristóvão, 20931670, Rio de Janeiro, Rio de Janeiro, -22.885912, -43.219296, BR, Rua Monsenhor Manuel Gomes, Zona Norte}|e032b908-ef42-4d4a-8125-eba4792bacbe|[0]    |[]    |Usado       |Outros      |Residencial|[]  |[{0, 0, Venda, 5000}]       |\n",
            "|0    |[20]      |[15]     |[1]      |[]                                                                                                                             |{Centro, 20231047, Rio de Janeiro, Rio de Janeiro, -22.913152, -43.184043, BR, Rua dos Inválidos, Zona Central}              |df9cf0b8-b972-4334-88c9-87ef528806df|[0]    |[]    |Usado       |Outros      |Comercial  |[1] |[{223, 87, Venda, 18500}]   |\n",
            "|3    |[43]      |[43]     |[1]      |[Academia, Churrasqueira, Playground, Salão de festas, Condomínio fechado, Portão eletrônico, Portaria 24h, Animais permitidos]|{Paciência, 23585430, Rio de Janeiro, Rio de Janeiro, -22.919851, -43.634034, BR, Estrada de Santa Eugênia, Zona Oeste}      |d2e3a3aa-09b5-45a0-9dcd-918847cd3ca3|[2]    |[]    |Usado       |Apartamento |Residencial|[1] |[{245, NULL, Venda, 15000}] |\n",
            "|2    |[42]      |[42]     |[1]      |[Churrasqueira, Playground, Salão de festas, Condomínio fechado, Portão eletrônico, Portaria 24h, Animais permitidos]          |{Paciência, 23585430, Rio de Janeiro, Rio de Janeiro, -22.928108, -43.635375, BR, Estrada de Santa Eugênia, Zona Oeste}      |085bab2c-87ad-452a-bd0f-8b1451509f84|[2]    |[]    |Usado       |Apartamento |Residencial|[1] |[{0, 0, Venda, 15000}]      |\n",
            "|0    |[]        |[12]     |[0]      |[Portaria 24h, Elevador]                                                                                                       |{Centro, 20231047, Rio de Janeiro, Rio de Janeiro, -22.913152, -43.184043, BR, Rua dos Inválidos, Zona Central}              |096ad966-dc36-47bf-8795-5604f078713a|[0]    |[]    |Usado       |Outros      |Comercial  |[1] |[{250, NULL, Venda, 20000}] |\n",
            "|1    |[41]      |[41]     |[1]      |[Portaria 24h, Condomínio fechado, Playground, Salão de festas, Churrasqueira, Portão eletrônico]                              |{Guaratiba, 23036060, Rio de Janeiro, Rio de Janeiro, -22.948756, -43.582824, BR, Estrada Cabuçu de Baixo, Zona Oeste}       |18d22cbe-1b86-4764-8def-70c615f15a61|[2]    |[]    |Usado       |Apartamento |Residencial|[1] |[{0, 0, Venda, 20000}]      |\n",
            "|3    |[43]      |[43]     |[1]      |[Churrasqueira, Piscina, Playground, Salão de festas, Condomínio fechado, Portão eletrônico, Portaria 24h, Animais permitidos] |{Cosmos, 23066271, Rio de Janeiro, Rio de Janeiro, -22.888194, -43.629602, BR, Estrada da Paciência, Zona Oeste}             |bed8a354-9317-4426-b27e-1c798f864271|[2]    |[]    |Usado       |Apartamento |Residencial|[0] |[{285, NULL, Venda, 20000}] |\n",
            "|0    |[10]      |[4]      |[0]      |[Elevador, Portaria 24h]                                                                                                       |{Centro, 20080021, Rio de Janeiro, Rio de Janeiro, -22.900167, -43.183256, BR, Rua dos Andradas, Zona Central}               |b7d0fbd3-0b28-4203-b7d2-5a63b6f6f7aa|[0]    |[]    |Usado       |Outros      |Comercial  |[0] |[{200, 86, Venda, 11500}]   |\n",
            "|0    |[12]      |[12]     |[1]      |[Portaria 24h]                                                                                                                 |{Copacabana, 22021010, Rio de Janeiro, Rio de Janeiro, -22.965218, -43.179086, BR, Rua Ministro Viveiros de Castro, Zona Sul}|c6571c11-166e-4a4c-acdf-10da35afd5fa|[0]    |[]    |Usado       |Outros      |Comercial  |[]  |[{470, NULL, Venda, 12000}] |\n",
            "|0    |[17]      |[17]     |[0]      |[Elevador]                                                                                                                     |{Centro, 20070021, Rio de Janeiro, Rio de Janeiro, -22.902503, -43.177944, BR, Rua Buenos Aires, Zona Central}               |46d5b560-205f-45fe-9223-f2a4db04545c|[0]    |[]    |Usado       |Outros      |Comercial  |[1] |[{294, 98, Venda, 18000}]   |\n",
            "|1    |[32]      |[32]     |[]       |[Elevador, Condomínio fechado, Portão eletrônico]                                                                              |{Centro, 20090020, Rio de Janeiro, Rio de Janeiro, -22.898297, -43.178573, BR, Rua Cortines Laxe, Zona Central}              |db197997-00e6-4d6d-8066-45cbbf3ac56c|[]     |[]    |Usado       |Outros      |Comercial  |[1] |[{684, NULL, Venda, 15000}] |\n",
            "|0    |[]        |[10]     |[0]      |[Elevador, Condomínio fechado, Portão eletrônico, Portaria 24h]                                                                |{Saúde, 20080040, Rio de Janeiro, Rio de Janeiro, -22.899571, -43.184864, BR, Travessa Coronel Julião, Zona Central}         |835d4338-4aa9-4e46-8a19-c7a31b387ce5|[0]    |[]    |Usado       |Outros      |Comercial  |[]  |[{0, 120, Venda, 20000}]    |\n",
            "|2    |[43]      |[43]     |[1]      |[Academia, Churrasqueira, Playground, Salão de festas, Condomínio fechado, Portão eletrônico, Portaria 24h, Animais permitidos]|{Guaratiba, 23036060, Rio de Janeiro, Rio de Janeiro, -22.948291, -43.582205, BR, Estrada Cabuçu de Baixo, Zona Oeste}       |12a13315-d67f-48f0-9497-017b83252781|[2]    |[]    |Usado       |Apartamento |Residencial|[1] |[{245, NULL, Venda, 15000}] |\n",
            "|3    |[43]      |[43]     |[1]      |[Churrasqueira, Piscina, Playground, Salão de festas, Condomínio fechado, Portaria 24h, Portão eletrônico, Animais permitidos] |{Cosmos, 23066271, Rio de Janeiro, Rio de Janeiro, -22.888194, -43.629602, BR, Estrada da Paciência, Zona Oeste}             |a2e6d7a5-0ff0-484d-b3d8-3a8f15e2d80e|[2]    |[0]   |Usado       |Apartamento |Residencial|[0] |[{285, NULL, Venda, 20000}] |\n",
            "|3    |[43]      |[43]     |[1]      |[Churrasqueira, Playground, Salão de festas, Condomínio fechado, Portão eletrônico, Portaria 24h, Animais permitidos]          |{Paciência, 23585430, Rio de Janeiro, Rio de Janeiro, -22.919851, -43.634034, BR, Estrada de Santa Eugênia, Zona Oeste}      |a6e3173b-c950-4db4-9b7b-80c44bd75e90|[2]    |[]    |Usado       |Apartamento |Residencial|[1] |[{250, NULL, Venda, 15000}] |\n",
            "|3    |[43]      |[43]     |[1]      |[Churrasqueira, Playground, Salão de festas, Condomínio fechado, Portão eletrônico, Animais permitidos]                        |{Guaratiba, 23036060, Rio de Janeiro, Rio de Janeiro, -22.948291, -43.582205, BR, Estrada Cabuçu de Baixo, Zona Oeste}       |2e6e5dfb-206c-4968-944b-ea4c3918b50d|[2]    |[0]   |Usado       |Apartamento |Residencial|[1] |[{245, NULL, Venda, 15000}] |\n",
            "+-----+----------+---------+---------+-------------------------------------------------------------------------------------------------------------------------------+-----------------------------------------------------------------------------------------------------------------------------+------------------------------------+-------+------+------------+------------+-----------+----+----------------------------+\n",
            "only showing top 20 rows\n",
            "\n"
          ]
        }
      ],
      "source": [
        "# selecionando os dados de interesse para o projeto\n",
        "dados\\\n",
        "    .select(\n",
        "        'anuncio.*'\n",
        "    )\\\n",
        "    .show(truncate=False)"
      ]
    },
    {
      "cell_type": "code",
      "execution_count": null,
      "metadata": {
        "id": "FirYVel5UjvG"
      },
      "outputs": [],
      "source": [
        "# atribuindo os dados de interesse a uma variável\n",
        "anuncio=dados.select('anuncio.*')"
      ]
    },
    {
      "cell_type": "markdown",
      "metadata": {
        "id": "6cOA5P9PM44N"
      },
      "source": [
        "## Filtrando a base de dados\n",
        "A *InsightPlaces* solicitou que fossem feitos alguns filtros nas colunas `tipo_uso`, `tipo_unidade` e `tipo_anuncio` da base de dados."
      ]
    },
    {
      "cell_type": "markdown",
      "metadata": {
        "id": "VPv10Kt6O8ti"
      },
      "source": [
        "### Avaliando a coluna `tipo_uso`"
      ]
    },
    {
      "cell_type": "code",
      "execution_count": null,
      "metadata": {
        "id": "NytywZVHaELB",
        "colab": {
          "base_uri": "https://localhost:8080/"
        },
        "outputId": "cf18decf-70e4-497d-96f5-ac84490c1fb0"
      },
      "outputs": [
        {
          "output_type": "stream",
          "name": "stdout",
          "text": [
            "+-----------+-----+\n",
            "|   tipo_uso|count|\n",
            "+-----------+-----+\n",
            "|  Comercial| 4542|\n",
            "|Residencial|84541|\n",
            "+-----------+-----+\n",
            "\n"
          ]
        }
      ],
      "source": [
        "# criando um tabela de frequências segundo o tipo de uso dos imóveis\n",
        "anuncio\\\n",
        "  .select('tipo_uso')\\\n",
        "  .groupBy('tipo_uso')\\\n",
        "  .count()\\\n",
        "  .show()"
      ]
    },
    {
      "cell_type": "markdown",
      "metadata": {
        "id": "AlYcw8RynFdE"
      },
      "source": [
        "Como há apenas 4542 imóveis comerciais, a *InsightPlaces* optou por deixá-los de fora do projeto."
      ]
    },
    {
      "cell_type": "code",
      "execution_count": null,
      "metadata": {
        "id": "q4LPD8c0-9og"
      },
      "outputs": [],
      "source": [
        "# filtrando somente imóveis residenciais\n",
        "anuncio=anuncio.filter('tipo_uso==\"Residencial\"')"
      ]
    },
    {
      "cell_type": "code",
      "execution_count": null,
      "metadata": {
        "id": "-5XQY_Oi_Vn8",
        "colab": {
          "base_uri": "https://localhost:8080/"
        },
        "outputId": "8914f1be-022b-44c8-fd17-35150e5ab553"
      },
      "outputs": [
        {
          "output_type": "stream",
          "name": "stdout",
          "text": [
            "+-----------+-----+\n",
            "|   tipo_uso|count|\n",
            "+-----------+-----+\n",
            "|Residencial|84541|\n",
            "+-----------+-----+\n",
            "\n"
          ]
        }
      ],
      "source": [
        "# visualizando novamente a tabela de frequências segundo o tipo de uso dos imóveis\n",
        "anuncio\\\n",
        "  .groupBy('tipo_uso')\\\n",
        "  .count()\\\n",
        "  .show()"
      ]
    },
    {
      "cell_type": "markdown",
      "metadata": {
        "id": "M4mQD3DDYxBs"
      },
      "source": [
        "### Avaliando a coluna `tipo_unidade`"
      ]
    },
    {
      "cell_type": "code",
      "execution_count": null,
      "metadata": {
        "id": "H5wsxhmf_zg4",
        "colab": {
          "base_uri": "https://localhost:8080/"
        },
        "outputId": "3dd4274f-0a5f-4e8e-86f4-4aab9b16c55d"
      },
      "outputs": [
        {
          "output_type": "stream",
          "name": "stdout",
          "text": [
            "+------------+-----+\n",
            "|tipo_unidade|count|\n",
            "+------------+-----+\n",
            "|      Outros| 7517|\n",
            "| Apartamento|66797|\n",
            "|        Casa|10227|\n",
            "+------------+-----+\n",
            "\n"
          ]
        }
      ],
      "source": [
        "# criando um tabela de frequências segundo o tipo de unidade dos imóveis\n",
        "anuncio\\\n",
        "  .select('tipo_unidade')\\\n",
        "  .groupBy('tipo_unidade')\\\n",
        "  .count()\\\n",
        "  .show()"
      ]
    },
    {
      "cell_type": "markdown",
      "metadata": {
        "id": "XvRb_BXKARrd"
      },
      "source": [
        "O Dataset apresenta 3 tipos de unidades (Outros, Apartamento e Casa). A *InsightPlaces* optou por trabalhar somente com o tipo Apartamento."
      ]
    },
    {
      "cell_type": "code",
      "execution_count": null,
      "metadata": {
        "id": "2re7FaA0BOZg"
      },
      "outputs": [],
      "source": [
        "# filtrando imóveis somente do tipo apartamento\n",
        "anuncio=anuncio.filter('tipo_unidade==\"Apartamento\"')"
      ]
    },
    {
      "cell_type": "code",
      "execution_count": null,
      "metadata": {
        "id": "oxyf1dvw-P4d",
        "colab": {
          "base_uri": "https://localhost:8080/"
        },
        "outputId": "b3151a1b-e1f1-4fca-d027-b1bebcbec7a3"
      },
      "outputs": [
        {
          "output_type": "stream",
          "name": "stdout",
          "text": [
            "+------------+-----+\n",
            "|tipo_unidade|count|\n",
            "+------------+-----+\n",
            "| Apartamento|66797|\n",
            "+------------+-----+\n",
            "\n"
          ]
        }
      ],
      "source": [
        "# visualizando novamente a tabela de frequências segundo o tipo de unidade\n",
        "anuncio\\\n",
        "  .groupBy('tipo_unidade')\\\n",
        "  .count()\\\n",
        "  .show()"
      ]
    },
    {
      "cell_type": "markdown",
      "metadata": {
        "id": "knZ3viqzenZ3"
      },
      "source": [
        "## Avaliando as informações de configuração dos imóveis\n",
        "\n",
        "As  colunas `quartos`, `suites`, `banheiros`, `vaga`, `area_total`, `area_util` definem as configurações dos imóveis. É importante reforçar que elas estão em formato de listas. Isso não é por acaso.\n",
        "\n",
        "A *InsightPlaces* comercializa dois tipos de imóveis, usados e novos (lançamentos). Os imóveis lançamentos são aqueles que estão em construção e pertencem a um determinado empreendimento. Esses empreendimentos podem conter mais de um tipo de configuração para os imóveis (exemplo: imóveis de 2 a 4 quartos).\n",
        "\n",
        "Sendo assim, os imóveis usados são preenchidos apenas com um valor (exemplo: imóvel de 2 quartos -> [2]) e os lançamentos podem ser preenchidos com apenas um valor (quando o empreendimento tem imóveis com a mesma configuração) ou com dois valores (quando o empreendimento apresenta imóveis com mais configurações. Exemplos: imóveis de 2 a 4 quartos -> [2, 4]).\n",
        "Para melhor visualização, será feito um filtro para mostrar apenas imóveis do tipo lançamento (seram selecionadas apenas as colunas `quartos`, `suites`, `banheiros`, `vaga`, `area_total`, `area_util`."
      ]
    },
    {
      "cell_type": "code",
      "execution_count": null,
      "metadata": {
        "id": "tOImHQmkA0Vy",
        "colab": {
          "base_uri": "https://localhost:8080/"
        },
        "outputId": "706e7099-32fa-4966-9182-5917651f4990"
      },
      "outputs": [
        {
          "output_type": "stream",
          "name": "stdout",
          "text": [
            "+-------+------+---------+------+----------+---------+\n",
            "|quartos|suites|banheiros|  vaga|area_total|area_util|\n",
            "+-------+------+---------+------+----------+---------+\n",
            "| [1, 2]|   [0]|      [0]|   [0]|        []| [41, 51]|\n",
            "| [1, 2]|   [0]|      [0]|   [0]|        []|     [41]|\n",
            "|    [0]|   [0]|      [1]|   [0]|        []| [21, 22]|\n",
            "|    [0]|   [0]|      [0]|   [0]|        []|[20, 159]|\n",
            "|    [0]|   [0]|      [0]|   [0]|        []|[22, 150]|\n",
            "|    [0]|   [0]|      [0]|   [1]|        []| [20, 51]|\n",
            "|    [0]|   [0]|      [0]|   [0]|        []|[27, 202]|\n",
            "| [1, 2]|   [1]|      [2]|   [1]|        []|[39, 112]|\n",
            "|    [2]|   [0]|      [1]|   [1]|        []| [41, 45]|\n",
            "| [2, 3]|   [0]|      [1]|   [1]|        []| [43, 52]|\n",
            "|    [2]|   [0]|      [1]|   [1]|        []| [41, 45]|\n",
            "| [1, 2]|[1, 2]|   [1, 2]|[1, 2]|        []| [30, 66]|\n",
            "|    [2]|   [0]|      [1]|   [1]|        []| [43, 48]|\n",
            "| [1, 2]|   [0]|      [1]|   [1]|        []| [35, 40]|\n",
            "| [1, 2]|   [0]|      [1]|[0, 1]|        []| [32, 43]|\n",
            "| [1, 2]|[0, 1]|   [1, 2]|[0, 1]|        []| [31, 50]|\n",
            "|    [0]|   [0]|      [0]|   [0]|        []|[21, 408]|\n",
            "| [1, 2]|   [1]|      [2]|   [1]|        []|     [48]|\n",
            "|    [1]|   [1]|   [1, 2]|[0, 2]|        []|[32, 110]|\n",
            "| [1, 2]|   [0]|      [1]|[0, 1]|        []| [44, 82]|\n",
            "+-------+------+---------+------+----------+---------+\n",
            "only showing top 20 rows\n",
            "\n"
          ]
        }
      ],
      "source": [
        "# visualizando  imóveis do tipo lançamento\n",
        "# somente colunas quartos, suites, banheiros, vaga, area_total, area_util\n",
        "anuncio\\\n",
        "    .select(\n",
        "        'quartos',\n",
        "        'suites',\n",
        "        'banheiros',\n",
        "        'vaga', 'area_total',\n",
        "        'area_util'\n",
        "        )\\\n",
        "    .filter('tipo_anuncio==\"Lançamento\"')\\\n",
        "    .show()"
      ]
    },
    {
      "cell_type": "markdown",
      "metadata": {
        "id": "_hWpqx3Ol7ny"
      },
      "source": [
        "Após essas analises, a *InsightPlaces* optou por dar proseguimento somente com imóveis usados. Além disso, será necessário transformar os dados em formato de lista para o formato numérico. Essa transformação vai possibilitar a utilização dos dados por algoritmos de machine learning."
      ]
    },
    {
      "cell_type": "code",
      "execution_count": null,
      "metadata": {
        "id": "7ND8UwwRnP2J",
        "colab": {
          "base_uri": "https://localhost:8080/"
        },
        "outputId": "d4d12d41-0906-43aa-9faf-030a97d0bd25"
      },
      "outputs": [
        {
          "output_type": "stream",
          "name": "stdout",
          "text": [
            "+------------+-----+\n",
            "|tipo_anuncio|count|\n",
            "+------------+-----+\n",
            "|       Usado|66562|\n",
            "|  Lançamento|  235|\n",
            "+------------+-----+\n",
            "\n"
          ]
        }
      ],
      "source": [
        "# visualizando o total de imóveis lançamento e usados\n",
        "anuncio\\\n",
        "  .groupBy('tipo_anuncio')\\\n",
        "  .count()\\\n",
        "  .show()"
      ]
    },
    {
      "cell_type": "code",
      "execution_count": null,
      "metadata": {
        "id": "bEOL8hninf-6"
      },
      "outputs": [],
      "source": [
        "# filtrando imóveis usados\n",
        "anuncio=anuncio.filter('tipo_anuncio==\"Usado\"')"
      ]
    },
    {
      "cell_type": "code",
      "execution_count": null,
      "metadata": {
        "id": "-DRgkFwWpWL1",
        "colab": {
          "base_uri": "https://localhost:8080/"
        },
        "outputId": "aabaa01b-9bfe-4469-c8e4-ae35aa81a266"
      },
      "outputs": [
        {
          "output_type": "stream",
          "name": "stdout",
          "text": [
            "+------------+-----+\n",
            "|tipo_anuncio|count|\n",
            "+------------+-----+\n",
            "|       Usado|66562|\n",
            "+------------+-----+\n",
            "\n"
          ]
        }
      ],
      "source": [
        "# visualizando novamente a tabela de frequências segundo o tipo de anuncio\n",
        "anuncio\\\n",
        "  .groupBy('tipo_anuncio')\\\n",
        "  .count()\\\n",
        "  .show()"
      ]
    },
    {
      "cell_type": "markdown",
      "metadata": {
        "id": "mZpcSDvzxD9P"
      },
      "source": [
        "## Transformando as configurações dos imóveis de listas para inteiros"
      ]
    },
    {
      "cell_type": "code",
      "execution_count": null,
      "metadata": {
        "id": "EOfd9uFxxgUH"
      },
      "outputs": [],
      "source": [
        "# importando o módulo necessário para transformar os dados\n",
        "from pyspark.sql import functions as f"
      ]
    },
    {
      "cell_type": "code",
      "execution_count": null,
      "metadata": {
        "id": "d8-hs_v4y4E5",
        "colab": {
          "base_uri": "https://localhost:8080/"
        },
        "outputId": "6ee92e22-07ad-44d6-db7a-5eb0018e1d88"
      },
      "outputs": [
        {
          "output_type": "stream",
          "name": "stdout",
          "text": [
            "+-------+-----+\n",
            "|quartos|count|\n",
            "+-------+-----+\n",
            "|      1|66562|\n",
            "+-------+-----+\n",
            "\n"
          ]
        }
      ],
      "source": [
        "# confirmando que tem apenas listas com apenas um elemento\n",
        "anuncio\\\n",
        "  .select(f.size(f.col('quartos')).alias('quartos'))\\\n",
        "  .groupBy('quartos')\\\n",
        "  .count()\\\n",
        "  .show()"
      ]
    },
    {
      "cell_type": "code",
      "execution_count": null,
      "metadata": {
        "id": "DGWQC-BPy7fQ"
      },
      "outputs": [],
      "source": [
        "# criando um lista com as colunas de interesse\n",
        "caracteristicas = ['quartos', 'suites', 'banheiros', 'vaga', 'area_total', 'area_util']"
      ]
    },
    {
      "cell_type": "code",
      "execution_count": null,
      "metadata": {
        "id": "mr-1eGmF0OWh",
        "colab": {
          "base_uri": "https://localhost:8080/"
        },
        "outputId": "610693e9-b877-45af-e610-6955dc5cdee9"
      },
      "outputs": [
        {
          "output_type": "stream",
          "name": "stdout",
          "text": [
            "+-------+-----+\n",
            "|quartos|count|\n",
            "+-------+-----+\n",
            "|      1|66562|\n",
            "+-------+-----+\n",
            "\n",
            "+------+-----+\n",
            "|suites|count|\n",
            "+------+-----+\n",
            "|     1|61008|\n",
            "|     0| 5554|\n",
            "+------+-----+\n",
            "\n",
            "+---------+-----+\n",
            "|banheiros|count|\n",
            "+---------+-----+\n",
            "|        1|66562|\n",
            "+---------+-----+\n",
            "\n",
            "+----+-----+\n",
            "|vaga|count|\n",
            "+----+-----+\n",
            "|   1|63545|\n",
            "|   0| 3017|\n",
            "+----+-----+\n",
            "\n",
            "+----------+-----+\n",
            "|area_total|count|\n",
            "+----------+-----+\n",
            "|         1|57368|\n",
            "|         0| 9194|\n",
            "+----------+-----+\n",
            "\n",
            "+---------+-----+\n",
            "|area_util|count|\n",
            "+---------+-----+\n",
            "|        1|66562|\n",
            "+---------+-----+\n",
            "\n"
          ]
        }
      ],
      "source": [
        "# verificando os registros das outras colunas\n",
        "for col in caracteristicas:\n",
        "    anuncio.select(f.size(f.col(col)).alias(col)).groupBy(col).count().show()"
      ]
    },
    {
      "cell_type": "markdown",
      "metadata": {
        "id": "Ov_lqIQ004-V"
      },
      "source": [
        "Nota-se que as colunas `suites`, `vaga` e `area_total` possuem listas vazias em alguns registros. No caso das colunas `suites` e `vaga`, é possível considerar que de fato esses imóveis não possuem essas configurações e pode-se imputar o valor zero. Já no caso da `area_total` não é possível fazer essa inferência, pois um imóvel precisa ter uma área. Ou seja, o vazio é resultado de outros fatores."
      ]
    },
    {
      "cell_type": "code",
      "execution_count": null,
      "metadata": {
        "id": "CmGMDshN4-N2",
        "colab": {
          "base_uri": "https://localhost:8080/"
        },
        "outputId": "e15568f3-498d-4a4e-d0cc-8e1c5b3f05b6"
      },
      "outputs": [
        {
          "output_type": "stream",
          "name": "stdout",
          "text": [
            "+-----+----------+---------+---------+--------------------------------------------------------------------------------------------------------------------------------------------------+-------------------------------------------------------------------------------------------------------------------------------------+------------------------------------+-------+------+------------+------------+-----------+----+----------------------------+\n",
            "|andar|area_total|area_util|banheiros|caracteristicas                                                                                                                                   |endereco                                                                                                                             |id                                  |quartos|suites|tipo_anuncio|tipo_unidade|tipo_uso   |vaga|valores                     |\n",
            "+-----+----------+---------+---------+--------------------------------------------------------------------------------------------------------------------------------------------------+-------------------------------------------------------------------------------------------------------------------------------------+------------------------------------+-------+------+------------+------------+-----------+----+----------------------------+\n",
            "|3    |43        |43       |1        |[Academia, Churrasqueira, Playground, Salão de festas, Condomínio fechado, Portão eletrônico, Portaria 24h, Animais permitidos]                   |{Paciência, 23585430, Rio de Janeiro, Rio de Janeiro, -22.919851, -43.634034, BR, Estrada de Santa Eugênia, Zona Oeste}              |d2e3a3aa-09b5-45a0-9dcd-918847cd3ca3|2      |NULL  |Usado       |Apartamento |Residencial|1   |[{245, NULL, Venda, 15000}] |\n",
            "|2    |42        |42       |1        |[Churrasqueira, Playground, Salão de festas, Condomínio fechado, Portão eletrônico, Portaria 24h, Animais permitidos]                             |{Paciência, 23585430, Rio de Janeiro, Rio de Janeiro, -22.928108, -43.635375, BR, Estrada de Santa Eugênia, Zona Oeste}              |085bab2c-87ad-452a-bd0f-8b1451509f84|2      |NULL  |Usado       |Apartamento |Residencial|1   |[{0, 0, Venda, 15000}]      |\n",
            "|1    |41        |41       |1        |[Portaria 24h, Condomínio fechado, Playground, Salão de festas, Churrasqueira, Portão eletrônico]                                                 |{Guaratiba, 23036060, Rio de Janeiro, Rio de Janeiro, -22.948756, -43.582824, BR, Estrada Cabuçu de Baixo, Zona Oeste}               |18d22cbe-1b86-4764-8def-70c615f15a61|2      |NULL  |Usado       |Apartamento |Residencial|1   |[{0, 0, Venda, 20000}]      |\n",
            "|3    |43        |43       |1        |[Churrasqueira, Piscina, Playground, Salão de festas, Condomínio fechado, Portão eletrônico, Portaria 24h, Animais permitidos]                    |{Cosmos, 23066271, Rio de Janeiro, Rio de Janeiro, -22.888194, -43.629602, BR, Estrada da Paciência, Zona Oeste}                     |bed8a354-9317-4426-b27e-1c798f864271|2      |NULL  |Usado       |Apartamento |Residencial|0   |[{285, NULL, Venda, 20000}] |\n",
            "|2    |43        |43       |1        |[Academia, Churrasqueira, Playground, Salão de festas, Condomínio fechado, Portão eletrônico, Portaria 24h, Animais permitidos]                   |{Guaratiba, 23036060, Rio de Janeiro, Rio de Janeiro, -22.948291, -43.582205, BR, Estrada Cabuçu de Baixo, Zona Oeste}               |12a13315-d67f-48f0-9497-017b83252781|2      |NULL  |Usado       |Apartamento |Residencial|1   |[{245, NULL, Venda, 15000}] |\n",
            "|3    |43        |43       |1        |[Churrasqueira, Piscina, Playground, Salão de festas, Condomínio fechado, Portaria 24h, Portão eletrônico, Animais permitidos]                    |{Cosmos, 23066271, Rio de Janeiro, Rio de Janeiro, -22.888194, -43.629602, BR, Estrada da Paciência, Zona Oeste}                     |a2e6d7a5-0ff0-484d-b3d8-3a8f15e2d80e|2      |0     |Usado       |Apartamento |Residencial|0   |[{285, NULL, Venda, 20000}] |\n",
            "|3    |43        |43       |1        |[Churrasqueira, Playground, Salão de festas, Condomínio fechado, Portão eletrônico, Portaria 24h, Animais permitidos]                             |{Paciência, 23585430, Rio de Janeiro, Rio de Janeiro, -22.919851, -43.634034, BR, Estrada de Santa Eugênia, Zona Oeste}              |a6e3173b-c950-4db4-9b7b-80c44bd75e90|2      |NULL  |Usado       |Apartamento |Residencial|1   |[{250, NULL, Venda, 15000}] |\n",
            "|3    |43        |43       |1        |[Churrasqueira, Playground, Salão de festas, Condomínio fechado, Portão eletrônico, Animais permitidos]                                           |{Guaratiba, 23036060, Rio de Janeiro, Rio de Janeiro, -22.948291, -43.582205, BR, Estrada Cabuçu de Baixo, Zona Oeste}               |2e6e5dfb-206c-4968-944b-ea4c3918b50d|2      |0     |Usado       |Apartamento |Residencial|1   |[{245, NULL, Venda, 15000}] |\n",
            "|3    |43        |43       |1        |[Churrasqueira, Playground, Salão de festas, Condomínio fechado, Portão eletrônico, Portaria 24h, Animais permitidos]                             |{Paciência, 23585430, Rio de Janeiro, Rio de Janeiro, -22.919851, -43.634034, BR, Estrada de Santa Eugênia, Zona Oeste}              |99f8d0f9-95a4-4613-a55d-c949e7a73e90|2      |0     |Usado       |Apartamento |Residencial|1   |[{245, NULL, Venda, 15000}] |\n",
            "|4    |43        |43       |1        |[Churrasqueira, Playground, Salão de festas, Condomínio fechado, Portão eletrônico, Portaria 24h, Animais permitidos]                             |{Guaratiba, 23036060, Rio de Janeiro, Rio de Janeiro, -22.948291, -43.582205, BR, Estrada Cabuçu de Baixo, Zona Oeste}               |b3f44c1a-2d50-4d56-b1fb-a94d59b55ab8|2      |NULL  |Usado       |Apartamento |Residencial|1   |[{240, NULL, Venda, 17999}] |\n",
            "|0    |60        |60       |1        |[Condomínio fechado]                                                                                                                              |{Pedra de Guaratiba, 23025018, Rio de Janeiro, Rio de Janeiro, -22.991393, -43.628042, BR, Rua Cento e Trinta e Três, Zona Oeste}    |dc99d9e1-4c63-41f7-a53d-678b2b3ccb52|2      |NULL  |Usado       |Apartamento |Residencial|1   |[{0, 0, Venda, 15000}]      |\n",
            "|1    |43        |43       |1        |[Churrasqueira, Playground, Salão de festas, Condomínio fechado, Portão eletrônico, Portaria 24h]                                                 |{Cosmos, 23056630, Rio de Janeiro, Rio de Janeiro, -22.918594, -43.611184, BR, Rua das Amoreiras, Zona Oeste}                        |aa3606d8-8bcd-45ec-a609-d68a58a12014|2      |NULL  |Usado       |Apartamento |Residencial|1   |[{240, 0, Venda, 19999}]    |\n",
            "|0    |43        |43       |1        |[Churrasqueira, Playground, Salão de festas, Condomínio fechado, Portão eletrônico, Portaria 24h, Animais permitidos]                             |{Campo Grande, 23070600, Rio de Janeiro, Rio de Janeiro, -22.883694, -43.593646, BR, Rua Constituinte, Zona Oeste}                   |df80b0d5-677c-4be7-93c4-ddef578125ac|2      |0     |Usado       |Apartamento |Residencial|0   |[{245, NULL, Venda, 19999}] |\n",
            "|2    |43        |43       |1        |[Academia, Churrasqueira, Piscina, Playground, Salão de festas, Condomínio fechado, Portão eletrônico, Portaria 24h, Animais permitidos]          |{Santa Cruz, 23520560, Rio de Janeiro, Rio de Janeiro, -22.945648, -43.640029, BR, Estrada de Santa Eugênia, Zona Oeste}             |3d6c0218-9b7d-474b-9a44-cd3e005375f9|2      |NULL  |Usado       |Apartamento |Residencial|2   |[{290, NULL, Venda, 25000}] |\n",
            "|3    |43        |43       |1        |[Salão de festas, Playground, Condomínio fechado, Portão eletrônico, Portaria 24h, Animais permitidos]                                            |{Guaratiba, 23020135, Rio de Janeiro, Rio de Janeiro, -22.936475, -43.583306, BR, Rua Seis de Julho, Zona Oeste}                     |304266cc-62d1-4ce7-909b-21198c306839|2      |NULL  |Usado       |Apartamento |Residencial|NULL|[{285, NULL, Venda, 29999}] |\n",
            "|4    |55        |55       |2        |[Academia, Churrasqueira, Piscina, Playground, Salão de festas, Elevador, Condomínio fechado, Portão eletrônico, Portaria 24h, Animais permitidos]|{Recreio dos Bandeirantes, 22790880, Rio de Janeiro, Rio de Janeiro, -23.022323, -43.509961, BR, Rua Luiz Carlos Sarolli, Zona Oeste}|111472a2-afa1-4a73-a8b3-3588ffba362c|2      |1     |Usado       |Apartamento |Residencial|1   |[{0, 0, Venda, 30000}]      |\n",
            "|0    |45        |45       |1        |[Playground, Piscina, Churrasqueira, Salão de festas, Condomínio fechado]                                                                         |{Cosmos, 23066271, Rio de Janeiro, Rio de Janeiro, -22.88939, -43.629587, BR, Estrada da Paciência, Zona Oeste}                      |275c1589-6537-4bf7-9504-74410dbf01fc|2      |0     |Usado       |Apartamento |Residencial|1   |[{NULL, NULL, Venda, 30000}]|\n",
            "|5    |42        |42       |1        |[Condomínio fechado, Portaria 24h, Salão de festas, Portão eletrônico, Animais permitidos]                                                        |{Realengo, 21725180, Rio de Janeiro, Rio de Janeiro, -22.857776, -43.448282, BR, Rua Hélio do Amaral, Zona Oeste}                    |ab8f367f-7509-45c7-ad9a-f51f84584376|2      |0     |Usado       |Apartamento |Residencial|0   |[{280, 0, Venda, 25000}]    |\n",
            "|1    |43        |43       |1        |[Churrasqueira, Playground, Salão de festas, Condomínio fechado, Portão eletrônico, Portaria 24h, Animais permitidos]                             |{Cosmos, 23058001, Rio de Janeiro, Rio de Janeiro, -22.915615, -43.61736, BR, Avenida Cesário de Melo, Zona Oeste}                   |e0a3d370-66dd-4f50-a3d9-cf09c8212318|2      |NULL  |Usado       |Apartamento |Residencial|1   |[{280, NULL, Venda, 27999}] |\n",
            "|3    |NULL      |55       |1        |[Academia, Churrasqueira, Piscina, Playground, Salão de festas, Elevador, Condomínio fechado, Portão eletrônico, Portaria 24h, Animais permitidos]|{Todos os Santos, 20770240, Rio de Janeiro, Rio de Janeiro, -22.896488, -43.282714, BR, Rua José Bonifácio, Zona Norte}              |09c8ba2d-dbf1-4879-ba5b-1345355dc415|2      |1     |Usado       |Apartamento |Residencial|1   |[{0, 0, Venda, 26000}]      |\n",
            "+-----+----------+---------+---------+--------------------------------------------------------------------------------------------------------------------------------------------------+-------------------------------------------------------------------------------------------------------------------------------------+------------------------------------+-------+------+------------+------------+-----------+----+----------------------------+\n",
            "only showing top 20 rows\n",
            "\n"
          ]
        }
      ],
      "source": [
        "# substituindo as listas por valores\n",
        "anuncio\\\n",
        "  .select([f.col(c)[0].alias(c) if c in caracteristicas else c for c in anuncio.columns])\\\n",
        "  .show(truncate = False)"
      ]
    },
    {
      "cell_type": "code",
      "execution_count": null,
      "metadata": {
        "id": "ER6342s96KO6"
      },
      "outputs": [],
      "source": [
        "# aplicando as mudanças ao Dataframe\n",
        "anuncio=anuncio.select([f.col(c)[0].alias(c) if c in caracteristicas else c for c in anuncio.columns])"
      ]
    },
    {
      "cell_type": "code",
      "execution_count": null,
      "metadata": {
        "id": "5YJ3ahHU7sPy",
        "colab": {
          "base_uri": "https://localhost:8080/"
        },
        "outputId": "35880235-9c87-4769-8a0d-bed7b45f2042"
      },
      "outputs": [
        {
          "output_type": "stream",
          "name": "stdout",
          "text": [
            "+-----+----------+---------+---------+--------------------------------------------------------------------------------------------------------------------------------------------------+-------------------------------------------------------------------------------------------------------------------------------------+------------------------------------+-------+------+------------+------------+-----------+----+----------------------------+\n",
            "|andar|area_total|area_util|banheiros|caracteristicas                                                                                                                                   |endereco                                                                                                                             |id                                  |quartos|suites|tipo_anuncio|tipo_unidade|tipo_uso   |vaga|valores                     |\n",
            "+-----+----------+---------+---------+--------------------------------------------------------------------------------------------------------------------------------------------------+-------------------------------------------------------------------------------------------------------------------------------------+------------------------------------+-------+------+------------+------------+-----------+----+----------------------------+\n",
            "|3    |43        |43       |1        |[Academia, Churrasqueira, Playground, Salão de festas, Condomínio fechado, Portão eletrônico, Portaria 24h, Animais permitidos]                   |{Paciência, 23585430, Rio de Janeiro, Rio de Janeiro, -22.919851, -43.634034, BR, Estrada de Santa Eugênia, Zona Oeste}              |d2e3a3aa-09b5-45a0-9dcd-918847cd3ca3|2      |NULL  |Usado       |Apartamento |Residencial|1   |[{245, NULL, Venda, 15000}] |\n",
            "|2    |42        |42       |1        |[Churrasqueira, Playground, Salão de festas, Condomínio fechado, Portão eletrônico, Portaria 24h, Animais permitidos]                             |{Paciência, 23585430, Rio de Janeiro, Rio de Janeiro, -22.928108, -43.635375, BR, Estrada de Santa Eugênia, Zona Oeste}              |085bab2c-87ad-452a-bd0f-8b1451509f84|2      |NULL  |Usado       |Apartamento |Residencial|1   |[{0, 0, Venda, 15000}]      |\n",
            "|1    |41        |41       |1        |[Portaria 24h, Condomínio fechado, Playground, Salão de festas, Churrasqueira, Portão eletrônico]                                                 |{Guaratiba, 23036060, Rio de Janeiro, Rio de Janeiro, -22.948756, -43.582824, BR, Estrada Cabuçu de Baixo, Zona Oeste}               |18d22cbe-1b86-4764-8def-70c615f15a61|2      |NULL  |Usado       |Apartamento |Residencial|1   |[{0, 0, Venda, 20000}]      |\n",
            "|3    |43        |43       |1        |[Churrasqueira, Piscina, Playground, Salão de festas, Condomínio fechado, Portão eletrônico, Portaria 24h, Animais permitidos]                    |{Cosmos, 23066271, Rio de Janeiro, Rio de Janeiro, -22.888194, -43.629602, BR, Estrada da Paciência, Zona Oeste}                     |bed8a354-9317-4426-b27e-1c798f864271|2      |NULL  |Usado       |Apartamento |Residencial|0   |[{285, NULL, Venda, 20000}] |\n",
            "|2    |43        |43       |1        |[Academia, Churrasqueira, Playground, Salão de festas, Condomínio fechado, Portão eletrônico, Portaria 24h, Animais permitidos]                   |{Guaratiba, 23036060, Rio de Janeiro, Rio de Janeiro, -22.948291, -43.582205, BR, Estrada Cabuçu de Baixo, Zona Oeste}               |12a13315-d67f-48f0-9497-017b83252781|2      |NULL  |Usado       |Apartamento |Residencial|1   |[{245, NULL, Venda, 15000}] |\n",
            "|3    |43        |43       |1        |[Churrasqueira, Piscina, Playground, Salão de festas, Condomínio fechado, Portaria 24h, Portão eletrônico, Animais permitidos]                    |{Cosmos, 23066271, Rio de Janeiro, Rio de Janeiro, -22.888194, -43.629602, BR, Estrada da Paciência, Zona Oeste}                     |a2e6d7a5-0ff0-484d-b3d8-3a8f15e2d80e|2      |0     |Usado       |Apartamento |Residencial|0   |[{285, NULL, Venda, 20000}] |\n",
            "|3    |43        |43       |1        |[Churrasqueira, Playground, Salão de festas, Condomínio fechado, Portão eletrônico, Portaria 24h, Animais permitidos]                             |{Paciência, 23585430, Rio de Janeiro, Rio de Janeiro, -22.919851, -43.634034, BR, Estrada de Santa Eugênia, Zona Oeste}              |a6e3173b-c950-4db4-9b7b-80c44bd75e90|2      |NULL  |Usado       |Apartamento |Residencial|1   |[{250, NULL, Venda, 15000}] |\n",
            "|3    |43        |43       |1        |[Churrasqueira, Playground, Salão de festas, Condomínio fechado, Portão eletrônico, Animais permitidos]                                           |{Guaratiba, 23036060, Rio de Janeiro, Rio de Janeiro, -22.948291, -43.582205, BR, Estrada Cabuçu de Baixo, Zona Oeste}               |2e6e5dfb-206c-4968-944b-ea4c3918b50d|2      |0     |Usado       |Apartamento |Residencial|1   |[{245, NULL, Venda, 15000}] |\n",
            "|3    |43        |43       |1        |[Churrasqueira, Playground, Salão de festas, Condomínio fechado, Portão eletrônico, Portaria 24h, Animais permitidos]                             |{Paciência, 23585430, Rio de Janeiro, Rio de Janeiro, -22.919851, -43.634034, BR, Estrada de Santa Eugênia, Zona Oeste}              |99f8d0f9-95a4-4613-a55d-c949e7a73e90|2      |0     |Usado       |Apartamento |Residencial|1   |[{245, NULL, Venda, 15000}] |\n",
            "|4    |43        |43       |1        |[Churrasqueira, Playground, Salão de festas, Condomínio fechado, Portão eletrônico, Portaria 24h, Animais permitidos]                             |{Guaratiba, 23036060, Rio de Janeiro, Rio de Janeiro, -22.948291, -43.582205, BR, Estrada Cabuçu de Baixo, Zona Oeste}               |b3f44c1a-2d50-4d56-b1fb-a94d59b55ab8|2      |NULL  |Usado       |Apartamento |Residencial|1   |[{240, NULL, Venda, 17999}] |\n",
            "|0    |60        |60       |1        |[Condomínio fechado]                                                                                                                              |{Pedra de Guaratiba, 23025018, Rio de Janeiro, Rio de Janeiro, -22.991393, -43.628042, BR, Rua Cento e Trinta e Três, Zona Oeste}    |dc99d9e1-4c63-41f7-a53d-678b2b3ccb52|2      |NULL  |Usado       |Apartamento |Residencial|1   |[{0, 0, Venda, 15000}]      |\n",
            "|1    |43        |43       |1        |[Churrasqueira, Playground, Salão de festas, Condomínio fechado, Portão eletrônico, Portaria 24h]                                                 |{Cosmos, 23056630, Rio de Janeiro, Rio de Janeiro, -22.918594, -43.611184, BR, Rua das Amoreiras, Zona Oeste}                        |aa3606d8-8bcd-45ec-a609-d68a58a12014|2      |NULL  |Usado       |Apartamento |Residencial|1   |[{240, 0, Venda, 19999}]    |\n",
            "|0    |43        |43       |1        |[Churrasqueira, Playground, Salão de festas, Condomínio fechado, Portão eletrônico, Portaria 24h, Animais permitidos]                             |{Campo Grande, 23070600, Rio de Janeiro, Rio de Janeiro, -22.883694, -43.593646, BR, Rua Constituinte, Zona Oeste}                   |df80b0d5-677c-4be7-93c4-ddef578125ac|2      |0     |Usado       |Apartamento |Residencial|0   |[{245, NULL, Venda, 19999}] |\n",
            "|2    |43        |43       |1        |[Academia, Churrasqueira, Piscina, Playground, Salão de festas, Condomínio fechado, Portão eletrônico, Portaria 24h, Animais permitidos]          |{Santa Cruz, 23520560, Rio de Janeiro, Rio de Janeiro, -22.945648, -43.640029, BR, Estrada de Santa Eugênia, Zona Oeste}             |3d6c0218-9b7d-474b-9a44-cd3e005375f9|2      |NULL  |Usado       |Apartamento |Residencial|2   |[{290, NULL, Venda, 25000}] |\n",
            "|3    |43        |43       |1        |[Salão de festas, Playground, Condomínio fechado, Portão eletrônico, Portaria 24h, Animais permitidos]                                            |{Guaratiba, 23020135, Rio de Janeiro, Rio de Janeiro, -22.936475, -43.583306, BR, Rua Seis de Julho, Zona Oeste}                     |304266cc-62d1-4ce7-909b-21198c306839|2      |NULL  |Usado       |Apartamento |Residencial|NULL|[{285, NULL, Venda, 29999}] |\n",
            "|4    |55        |55       |2        |[Academia, Churrasqueira, Piscina, Playground, Salão de festas, Elevador, Condomínio fechado, Portão eletrônico, Portaria 24h, Animais permitidos]|{Recreio dos Bandeirantes, 22790880, Rio de Janeiro, Rio de Janeiro, -23.022323, -43.509961, BR, Rua Luiz Carlos Sarolli, Zona Oeste}|111472a2-afa1-4a73-a8b3-3588ffba362c|2      |1     |Usado       |Apartamento |Residencial|1   |[{0, 0, Venda, 30000}]      |\n",
            "|0    |45        |45       |1        |[Playground, Piscina, Churrasqueira, Salão de festas, Condomínio fechado]                                                                         |{Cosmos, 23066271, Rio de Janeiro, Rio de Janeiro, -22.88939, -43.629587, BR, Estrada da Paciência, Zona Oeste}                      |275c1589-6537-4bf7-9504-74410dbf01fc|2      |0     |Usado       |Apartamento |Residencial|1   |[{NULL, NULL, Venda, 30000}]|\n",
            "|5    |42        |42       |1        |[Condomínio fechado, Portaria 24h, Salão de festas, Portão eletrônico, Animais permitidos]                                                        |{Realengo, 21725180, Rio de Janeiro, Rio de Janeiro, -22.857776, -43.448282, BR, Rua Hélio do Amaral, Zona Oeste}                    |ab8f367f-7509-45c7-ad9a-f51f84584376|2      |0     |Usado       |Apartamento |Residencial|0   |[{280, 0, Venda, 25000}]    |\n",
            "|1    |43        |43       |1        |[Churrasqueira, Playground, Salão de festas, Condomínio fechado, Portão eletrônico, Portaria 24h, Animais permitidos]                             |{Cosmos, 23058001, Rio de Janeiro, Rio de Janeiro, -22.915615, -43.61736, BR, Avenida Cesário de Melo, Zona Oeste}                   |e0a3d370-66dd-4f50-a3d9-cf09c8212318|2      |NULL  |Usado       |Apartamento |Residencial|1   |[{280, NULL, Venda, 27999}] |\n",
            "|3    |NULL      |55       |1        |[Academia, Churrasqueira, Piscina, Playground, Salão de festas, Elevador, Condomínio fechado, Portão eletrônico, Portaria 24h, Animais permitidos]|{Todos os Santos, 20770240, Rio de Janeiro, Rio de Janeiro, -22.896488, -43.282714, BR, Rua José Bonifácio, Zona Norte}              |09c8ba2d-dbf1-4879-ba5b-1345355dc415|2      |1     |Usado       |Apartamento |Residencial|1   |[{0, 0, Venda, 26000}]      |\n",
            "+-----+----------+---------+---------+--------------------------------------------------------------------------------------------------------------------------------------------------+-------------------------------------------------------------------------------------------------------------------------------------+------------------------------------+-------+------+------------+------------+-----------+----+----------------------------+\n",
            "only showing top 20 rows\n",
            "\n"
          ]
        }
      ],
      "source": [
        "# mostrando o Dataset atualizado\n",
        "anuncio.show(truncate = False)"
      ]
    },
    {
      "cell_type": "markdown",
      "metadata": {
        "id": "bgFK278-9kJ9"
      },
      "source": [
        "## Tratando as informações sobre localização\n",
        "Como a *InsightPlaces* opera somente no estado do Rio de Janeiro, a imobiliária solicitou que fossem extraídos apenas os dados sobre bairro e zona. Sendo assim, será necessário transformar a coluna `endereço`."
      ]
    },
    {
      "cell_type": "code",
      "execution_count": null,
      "metadata": {
        "id": "U3H8MIYqrcwb",
        "colab": {
          "base_uri": "https://localhost:8080/"
        },
        "outputId": "c0b98c06-40fc-4a05-b13e-3a7320b1b8b4"
      },
      "outputs": [
        {
          "output_type": "stream",
          "name": "stdout",
          "text": [
            "+--------------------+--------+--------------+--------------+----------+----------+----+--------------------+----------+\n",
            "|              bairro|     cep|        cidade|        estado|  latitude| longitude|pais|                 rua|      zona|\n",
            "+--------------------+--------+--------------+--------------+----------+----------+----+--------------------+----------+\n",
            "|           Paciência|23585430|Rio de Janeiro|Rio de Janeiro|-22.919851|-43.634034|  BR|Estrada de Santa ...|Zona Oeste|\n",
            "|           Paciência|23585430|Rio de Janeiro|Rio de Janeiro|-22.928108|-43.635375|  BR|Estrada de Santa ...|Zona Oeste|\n",
            "|           Guaratiba|23036060|Rio de Janeiro|Rio de Janeiro|-22.948756|-43.582824|  BR|Estrada Cabuçu de...|Zona Oeste|\n",
            "|              Cosmos|23066271|Rio de Janeiro|Rio de Janeiro|-22.888194|-43.629602|  BR|Estrada da Paciência|Zona Oeste|\n",
            "|           Guaratiba|23036060|Rio de Janeiro|Rio de Janeiro|-22.948291|-43.582205|  BR|Estrada Cabuçu de...|Zona Oeste|\n",
            "|              Cosmos|23066271|Rio de Janeiro|Rio de Janeiro|-22.888194|-43.629602|  BR|Estrada da Paciência|Zona Oeste|\n",
            "|           Paciência|23585430|Rio de Janeiro|Rio de Janeiro|-22.919851|-43.634034|  BR|Estrada de Santa ...|Zona Oeste|\n",
            "|           Guaratiba|23036060|Rio de Janeiro|Rio de Janeiro|-22.948291|-43.582205|  BR|Estrada Cabuçu de...|Zona Oeste|\n",
            "|           Paciência|23585430|Rio de Janeiro|Rio de Janeiro|-22.919851|-43.634034|  BR|Estrada de Santa ...|Zona Oeste|\n",
            "|           Guaratiba|23036060|Rio de Janeiro|Rio de Janeiro|-22.948291|-43.582205|  BR|Estrada Cabuçu de...|Zona Oeste|\n",
            "|  Pedra de Guaratiba|23025018|Rio de Janeiro|Rio de Janeiro|-22.991393|-43.628042|  BR|Rua Cento e Trint...|Zona Oeste|\n",
            "|              Cosmos|23056630|Rio de Janeiro|Rio de Janeiro|-22.918594|-43.611184|  BR|   Rua das Amoreiras|Zona Oeste|\n",
            "|        Campo Grande|23070600|Rio de Janeiro|Rio de Janeiro|-22.883694|-43.593646|  BR|    Rua Constituinte|Zona Oeste|\n",
            "|          Santa Cruz|23520560|Rio de Janeiro|Rio de Janeiro|-22.945648|-43.640029|  BR|Estrada de Santa ...|Zona Oeste|\n",
            "|           Guaratiba|23020135|Rio de Janeiro|Rio de Janeiro|-22.936475|-43.583306|  BR|   Rua Seis de Julho|Zona Oeste|\n",
            "|Recreio dos Bande...|22790880|Rio de Janeiro|Rio de Janeiro|-23.022323|-43.509961|  BR|Rua Luiz Carlos S...|Zona Oeste|\n",
            "|              Cosmos|23066271|Rio de Janeiro|Rio de Janeiro| -22.88939|-43.629587|  BR|Estrada da Paciência|Zona Oeste|\n",
            "|            Realengo|21725180|Rio de Janeiro|Rio de Janeiro|-22.857776|-43.448282|  BR| Rua Hélio do Amaral|Zona Oeste|\n",
            "|              Cosmos|23058001|Rio de Janeiro|Rio de Janeiro|-22.915615| -43.61736|  BR|Avenida Cesário d...|Zona Oeste|\n",
            "|     Todos os Santos|20770240|Rio de Janeiro|Rio de Janeiro|-22.896488|-43.282714|  BR|  Rua José Bonifácio|Zona Norte|\n",
            "+--------------------+--------+--------------+--------------+----------+----------+----+--------------------+----------+\n",
            "only showing top 20 rows\n",
            "\n"
          ]
        }
      ],
      "source": [
        "# visualizando a coluna endereço\n",
        "anuncio\\\n",
        "  .select('endereco.*')\\\n",
        "  .show()"
      ]
    },
    {
      "cell_type": "code",
      "execution_count": null,
      "metadata": {
        "id": "3uxLWMXFsgK1",
        "colab": {
          "base_uri": "https://localhost:8080/"
        },
        "outputId": "7d5afd03-9709-4644-ee92-064b36e3327b"
      },
      "outputs": [
        {
          "output_type": "stream",
          "name": "stdout",
          "text": [
            "+--------------------+----------+\n",
            "|              bairro|      zona|\n",
            "+--------------------+----------+\n",
            "|           Paciência|Zona Oeste|\n",
            "|           Paciência|Zona Oeste|\n",
            "|           Guaratiba|Zona Oeste|\n",
            "|              Cosmos|Zona Oeste|\n",
            "|           Guaratiba|Zona Oeste|\n",
            "|              Cosmos|Zona Oeste|\n",
            "|           Paciência|Zona Oeste|\n",
            "|           Guaratiba|Zona Oeste|\n",
            "|           Paciência|Zona Oeste|\n",
            "|           Guaratiba|Zona Oeste|\n",
            "|  Pedra de Guaratiba|Zona Oeste|\n",
            "|              Cosmos|Zona Oeste|\n",
            "|        Campo Grande|Zona Oeste|\n",
            "|          Santa Cruz|Zona Oeste|\n",
            "|           Guaratiba|Zona Oeste|\n",
            "|Recreio dos Bande...|Zona Oeste|\n",
            "|              Cosmos|Zona Oeste|\n",
            "|            Realengo|Zona Oeste|\n",
            "|              Cosmos|Zona Oeste|\n",
            "|     Todos os Santos|Zona Norte|\n",
            "+--------------------+----------+\n",
            "only showing top 20 rows\n",
            "\n"
          ]
        }
      ],
      "source": [
        "# visualizando apenas o bairro e zona da coluna endereço\n",
        "anuncio\\\n",
        "  .select('endereco.bairro', 'endereco.zona')\\\n",
        "  .show()"
      ]
    },
    {
      "cell_type": "code",
      "execution_count": null,
      "metadata": {
        "id": "b3HazPQyub3h",
        "colab": {
          "base_uri": "https://localhost:8080/"
        },
        "outputId": "8b16d795-5c40-4451-8145-2282c3c6c53a"
      },
      "outputs": [
        {
          "output_type": "stream",
          "name": "stdout",
          "text": [
            "+-----+----------+---------+---------+--------------------+--------------------+-------+------+------------+------------+-----------+----+--------------------+--------------------+----------+\n",
            "|andar|area_total|area_util|banheiros|     caracteristicas|                  id|quartos|suites|tipo_anuncio|tipo_unidade|   tipo_uso|vaga|             valores|              bairro|      zona|\n",
            "+-----+----------+---------+---------+--------------------+--------------------+-------+------+------------+------------+-----------+----+--------------------+--------------------+----------+\n",
            "|    3|        43|       43|        1|[Academia, Churra...|d2e3a3aa-09b5-45a...|      2|  NULL|       Usado| Apartamento|Residencial|   1|[{245, NULL, Vend...|           Paciência|Zona Oeste|\n",
            "|    2|        42|       42|        1|[Churrasqueira, P...|085bab2c-87ad-452...|      2|  NULL|       Usado| Apartamento|Residencial|   1|[{0, 0, Venda, 15...|           Paciência|Zona Oeste|\n",
            "|    1|        41|       41|        1|[Portaria 24h, Co...|18d22cbe-1b86-476...|      2|  NULL|       Usado| Apartamento|Residencial|   1|[{0, 0, Venda, 20...|           Guaratiba|Zona Oeste|\n",
            "|    3|        43|       43|        1|[Churrasqueira, P...|bed8a354-9317-442...|      2|  NULL|       Usado| Apartamento|Residencial|   0|[{285, NULL, Vend...|              Cosmos|Zona Oeste|\n",
            "|    2|        43|       43|        1|[Academia, Churra...|12a13315-d67f-48f...|      2|  NULL|       Usado| Apartamento|Residencial|   1|[{245, NULL, Vend...|           Guaratiba|Zona Oeste|\n",
            "|    3|        43|       43|        1|[Churrasqueira, P...|a2e6d7a5-0ff0-484...|      2|     0|       Usado| Apartamento|Residencial|   0|[{285, NULL, Vend...|              Cosmos|Zona Oeste|\n",
            "|    3|        43|       43|        1|[Churrasqueira, P...|a6e3173b-c950-4db...|      2|  NULL|       Usado| Apartamento|Residencial|   1|[{250, NULL, Vend...|           Paciência|Zona Oeste|\n",
            "|    3|        43|       43|        1|[Churrasqueira, P...|2e6e5dfb-206c-496...|      2|     0|       Usado| Apartamento|Residencial|   1|[{245, NULL, Vend...|           Guaratiba|Zona Oeste|\n",
            "|    3|        43|       43|        1|[Churrasqueira, P...|99f8d0f9-95a4-461...|      2|     0|       Usado| Apartamento|Residencial|   1|[{245, NULL, Vend...|           Paciência|Zona Oeste|\n",
            "|    4|        43|       43|        1|[Churrasqueira, P...|b3f44c1a-2d50-4d5...|      2|  NULL|       Usado| Apartamento|Residencial|   1|[{240, NULL, Vend...|           Guaratiba|Zona Oeste|\n",
            "|    0|        60|       60|        1|[Condomínio fechado]|dc99d9e1-4c63-41f...|      2|  NULL|       Usado| Apartamento|Residencial|   1|[{0, 0, Venda, 15...|  Pedra de Guaratiba|Zona Oeste|\n",
            "|    1|        43|       43|        1|[Churrasqueira, P...|aa3606d8-8bcd-45e...|      2|  NULL|       Usado| Apartamento|Residencial|   1|[{240, 0, Venda, ...|              Cosmos|Zona Oeste|\n",
            "|    0|        43|       43|        1|[Churrasqueira, P...|df80b0d5-677c-4be...|      2|     0|       Usado| Apartamento|Residencial|   0|[{245, NULL, Vend...|        Campo Grande|Zona Oeste|\n",
            "|    2|        43|       43|        1|[Academia, Churra...|3d6c0218-9b7d-474...|      2|  NULL|       Usado| Apartamento|Residencial|   2|[{290, NULL, Vend...|          Santa Cruz|Zona Oeste|\n",
            "|    3|        43|       43|        1|[Salão de festas,...|304266cc-62d1-4ce...|      2|  NULL|       Usado| Apartamento|Residencial|NULL|[{285, NULL, Vend...|           Guaratiba|Zona Oeste|\n",
            "|    4|        55|       55|        2|[Academia, Churra...|111472a2-afa1-4a7...|      2|     1|       Usado| Apartamento|Residencial|   1|[{0, 0, Venda, 30...|Recreio dos Bande...|Zona Oeste|\n",
            "|    0|        45|       45|        1|[Playground, Pisc...|275c1589-6537-4bf...|      2|     0|       Usado| Apartamento|Residencial|   1|[{NULL, NULL, Ven...|              Cosmos|Zona Oeste|\n",
            "|    5|        42|       42|        1|[Condomínio fecha...|ab8f367f-7509-45c...|      2|     0|       Usado| Apartamento|Residencial|   0|[{280, 0, Venda, ...|            Realengo|Zona Oeste|\n",
            "|    1|        43|       43|        1|[Churrasqueira, P...|e0a3d370-66dd-4f5...|      2|  NULL|       Usado| Apartamento|Residencial|   1|[{280, NULL, Vend...|              Cosmos|Zona Oeste|\n",
            "|    3|      NULL|       55|        1|[Academia, Churra...|09c8ba2d-dbf1-487...|      2|     1|       Usado| Apartamento|Residencial|   1|[{0, 0, Venda, 26...|     Todos os Santos|Zona Norte|\n",
            "+-----+----------+---------+---------+--------------------+--------------------+-------+------+------------+------------+-----------+----+--------------------+--------------------+----------+\n",
            "only showing top 20 rows\n",
            "\n"
          ]
        }
      ],
      "source": [
        "# visualizando o Dataset com apenas as colunas bairro e zona\n",
        "anuncio\\\n",
        "  .select('*',  'endereco.bairro', 'endereco.zona')\\\n",
        "  .drop('endereco')\\\n",
        "  .show()"
      ]
    },
    {
      "cell_type": "code",
      "execution_count": null,
      "metadata": {
        "id": "H0ZwJUFXu-fQ"
      },
      "outputs": [],
      "source": [
        "# aplicando as mudanças ao Dataset\n",
        "anuncio=anuncio\\\n",
        "  .select('*',  'endereco.bairro', 'endereco.zona')\\\n",
        "  .drop('endereco')"
      ]
    },
    {
      "cell_type": "markdown",
      "metadata": {
        "id": "Qj0wtaGU6nND"
      },
      "source": [
        "## Tratando a coluna valores\n",
        "\n",
        "Essa é a informação mais importante papa a *InsightPlaces*. Percebe-se que a coluna `valores` é do tipo array, ou seja, um lista que contém elementos. Esses elementos são dicionários com informações sobre `condominio`, `iptu`, `tipo` e `valor`.\n",
        "\n",
        "O campo `tipo` pode assumir duas formas: venda ou aluguel.\n",
        "\n",
        "O campo `valor` é o preço do imóvel, seja o valor de venda ou aluguel.\n",
        "\n",
        "Os campos `condominio`, `iptu` são as taxas extras do imóvel.\n",
        "\n",
        "Como se trata de um projeto sobre a venda, a imobiliaria se interessa apenas por imóveis dessa categoria."
      ]
    },
    {
      "cell_type": "code",
      "execution_count": null,
      "metadata": {
        "id": "C9RaKOmJ-VWZ",
        "colab": {
          "base_uri": "https://localhost:8080/"
        },
        "outputId": "10670734-79c2-4e94-9cdb-efea9cbb1175"
      },
      "outputs": [
        {
          "output_type": "stream",
          "name": "stdout",
          "text": [
            "root\n",
            " |-- andar: long (nullable = true)\n",
            " |-- area_total: string (nullable = true)\n",
            " |-- area_util: string (nullable = true)\n",
            " |-- banheiros: long (nullable = true)\n",
            " |-- caracteristicas: array (nullable = true)\n",
            " |    |-- element: string (containsNull = true)\n",
            " |-- id: string (nullable = true)\n",
            " |-- quartos: long (nullable = true)\n",
            " |-- suites: long (nullable = true)\n",
            " |-- tipo_anuncio: string (nullable = true)\n",
            " |-- tipo_unidade: string (nullable = true)\n",
            " |-- tipo_uso: string (nullable = true)\n",
            " |-- vaga: long (nullable = true)\n",
            " |-- valores: array (nullable = true)\n",
            " |    |-- element: struct (containsNull = true)\n",
            " |    |    |-- condominio: string (nullable = true)\n",
            " |    |    |-- iptu: string (nullable = true)\n",
            " |    |    |-- tipo: string (nullable = true)\n",
            " |    |    |-- valor: string (nullable = true)\n",
            " |-- bairro: string (nullable = true)\n",
            " |-- zona: string (nullable = true)\n",
            "\n"
          ]
        }
      ],
      "source": [
        "# visualizando a estrutura dos dados\n",
        "anuncio.printSchema()"
      ]
    },
    {
      "cell_type": "code",
      "execution_count": null,
      "metadata": {
        "id": "G1wMOfct--qg",
        "colab": {
          "base_uri": "https://localhost:8080/"
        },
        "outputId": "ddc78236-62fb-490c-f644-dec41da4d4db"
      },
      "outputs": [
        {
          "output_type": "stream",
          "name": "stdout",
          "text": [
            "+--------------------+\n",
            "|             valores|\n",
            "+--------------------+\n",
            "|[{245, NULL, Vend...|\n",
            "|[{0, 0, Venda, 15...|\n",
            "|[{0, 0, Venda, 20...|\n",
            "|[{285, NULL, Vend...|\n",
            "|[{245, NULL, Vend...|\n",
            "|[{285, NULL, Vend...|\n",
            "|[{250, NULL, Vend...|\n",
            "|[{245, NULL, Vend...|\n",
            "|[{245, NULL, Vend...|\n",
            "|[{240, NULL, Vend...|\n",
            "|[{0, 0, Venda, 15...|\n",
            "|[{240, 0, Venda, ...|\n",
            "|[{245, NULL, Vend...|\n",
            "|[{290, NULL, Vend...|\n",
            "|[{285, NULL, Vend...|\n",
            "|[{0, 0, Venda, 30...|\n",
            "|[{NULL, NULL, Ven...|\n",
            "|[{280, 0, Venda, ...|\n",
            "|[{280, NULL, Vend...|\n",
            "|[{0, 0, Venda, 26...|\n",
            "+--------------------+\n",
            "only showing top 20 rows\n",
            "\n"
          ]
        }
      ],
      "source": [
        "# visualizando a coluna valores\n",
        "anuncio\\\n",
        "  .select('valores')\\\n",
        "  .show()"
      ]
    },
    {
      "cell_type": "code",
      "execution_count": null,
      "metadata": {
        "id": "Uiy_2K5KBS_y",
        "colab": {
          "base_uri": "https://localhost:8080/"
        },
        "outputId": "12e339ca-7861-4742-a978-c5adf37ffa63"
      },
      "outputs": [
        {
          "output_type": "execute_result",
          "data": {
            "text/plain": [
              "66562"
            ]
          },
          "metadata": {},
          "execution_count": 32
        }
      ],
      "source": [
        "# verificando quantos imóveis a venda têm no conjunto de dados\n",
        "anuncio\\\n",
        "  .select(f.explode('valores').alias('valores'))\\\n",
        "  .select('valores.*')\\\n",
        "  .filter('valores.tipo==\"Venda\"')\\\n",
        "  .count()"
      ]
    },
    {
      "cell_type": "code",
      "execution_count": null,
      "metadata": {
        "id": "4tL4xRIPM1oZ",
        "colab": {
          "base_uri": "https://localhost:8080/"
        },
        "outputId": "4d7298b8-8fa1-4598-d8be-89cc1504d9d4"
      },
      "outputs": [
        {
          "output_type": "stream",
          "name": "stdout",
          "text": [
            "+------------------------------------+----------+----+-------+-----+\n",
            "|id                                  |condominio|iptu|tipo   |valor|\n",
            "+------------------------------------+----------+----+-------+-----+\n",
            "|d2e3a3aa-09b5-45a0-9dcd-918847cd3ca3|245       |NULL|Venda  |15000|\n",
            "|085bab2c-87ad-452a-bd0f-8b1451509f84|0         |0   |Venda  |15000|\n",
            "|18d22cbe-1b86-4764-8def-70c615f15a61|0         |0   |Venda  |20000|\n",
            "|bed8a354-9317-4426-b27e-1c798f864271|285       |NULL|Venda  |20000|\n",
            "|12a13315-d67f-48f0-9497-017b83252781|245       |NULL|Venda  |15000|\n",
            "|a2e6d7a5-0ff0-484d-b3d8-3a8f15e2d80e|285       |NULL|Venda  |20000|\n",
            "|a6e3173b-c950-4db4-9b7b-80c44bd75e90|250       |NULL|Venda  |15000|\n",
            "|2e6e5dfb-206c-4968-944b-ea4c3918b50d|245       |NULL|Venda  |15000|\n",
            "|99f8d0f9-95a4-4613-a55d-c949e7a73e90|245       |NULL|Venda  |15000|\n",
            "|b3f44c1a-2d50-4d56-b1fb-a94d59b55ab8|240       |NULL|Venda  |17999|\n",
            "|dc99d9e1-4c63-41f7-a53d-678b2b3ccb52|0         |0   |Venda  |15000|\n",
            "|aa3606d8-8bcd-45ec-a609-d68a58a12014|240       |0   |Venda  |19999|\n",
            "|df80b0d5-677c-4be7-93c4-ddef578125ac|245       |NULL|Venda  |19999|\n",
            "|3d6c0218-9b7d-474b-9a44-cd3e005375f9|290       |NULL|Venda  |25000|\n",
            "|304266cc-62d1-4ce7-909b-21198c306839|285       |NULL|Venda  |29999|\n",
            "|111472a2-afa1-4a73-a8b3-3588ffba362c|0         |0   |Venda  |30000|\n",
            "|275c1589-6537-4bf7-9504-74410dbf01fc|NULL      |NULL|Venda  |30000|\n",
            "|ab8f367f-7509-45c7-ad9a-f51f84584376|280       |0   |Venda  |25000|\n",
            "|e0a3d370-66dd-4f50-a3d9-cf09c8212318|280       |NULL|Venda  |27999|\n",
            "|09c8ba2d-dbf1-4879-ba5b-1345355dc415|0         |0   |Venda  |26000|\n",
            "|33da5489-72c9-4d18-883c-a85363348bcc|200       |0   |Venda  |23000|\n",
            "|08511604-dffe-40a4-801b-2ee1e73d49c5|245       |NULL|Venda  |29999|\n",
            "|a8de531f-5e85-4217-aa7d-578b9cc3ee97|NULL      |0   |Venda  |27000|\n",
            "|03a386b6-7ab8-4eff-891d-f8a16efc1989|285       |NULL|Venda  |22999|\n",
            "|f63ae653-c3ac-4d1a-a87e-9f3f1fb27c7f|200       |0   |Venda  |23000|\n",
            "|c2676515-0633-4375-958e-b7b1644a4108|NULL      |NULL|Venda  |28000|\n",
            "|01de0250-50cc-4e75-9c01-b886c5059ddc|200       |0   |Venda  |24999|\n",
            "|6b196ad0-fca5-4a2b-98f3-8e4abb633e5b|200       |0   |Venda  |23000|\n",
            "|57ac572e-34e2-4427-b3fa-d2198c4e9203|NULL      |0   |Venda  |25000|\n",
            "|fa17e63c-0a23-4a87-a985-9b7bd258353b|240       |NULL|Venda  |39999|\n",
            "|ae90e3f7-4b9e-4e68-a28c-7e98b6b3bd97|233       |NULL|Venda  |35000|\n",
            "|fca04c66-5f6d-4e9c-a2bd-b97eb179ad1b|270       |0   |Venda  |40000|\n",
            "|4f1755c9-862f-4dcd-a5f5-09af9ae74313|459       |0   |Venda  |40000|\n",
            "|61a40854-1fee-4f50-8c3c-d9fa4d9e16c7|233       |NULL|Venda  |39999|\n",
            "|d7ed40c6-96b2-4456-8ee6-c33e21772ba6|300       |NULL|Venda  |38000|\n",
            "|b8d40915-3fbd-4671-9797-e13e12f2d554|197       |0   |Venda  |40000|\n",
            "|891745fd-7826-425f-afb1-7a80425ebf1d|0         |0   |Venda  |35000|\n",
            "|47334896-dbd7-45ba-9b3f-c59bccdd54fb|275       |10  |Venda  |37000|\n",
            "|354e0850-cc2f-4a98-931b-af3ebb1527d0|0         |0   |Venda  |35000|\n",
            "|2cdbb771-2ae4-4979-a483-dcc6099d0893|350       |NULL|Venda  |50000|\n",
            "|42433229-ceef-4bb6-896a-46fdc1f85515|120       |0   |Venda  |43500|\n",
            "|c543da32-a895-45ee-9116-7f6387fcbc1b|299       |NULL|Venda  |50000|\n",
            "|31709fc3-0503-4e57-912f-e2fb0640cdf1|295       |NULL|Venda  |42000|\n",
            "|c425f585-53e3-44b6-8bb6-6b9b766b0e30|350       |20  |Venda  |49000|\n",
            "|c425f585-53e3-44b6-8bb6-6b9b766b0e30|350       |20  |Aluguel|700  |\n",
            "|df481ce5-65d0-4c15-936e-f4732ef96c49|0         |NULL|Venda  |50000|\n",
            "|df481ce5-65d0-4c15-936e-f4732ef96c49|0         |NULL|Aluguel|800  |\n",
            "|78c4d364-bed2-4af7-bbf4-fd2ffa83f7dd|150       |0   |Venda  |48000|\n",
            "|7e7d054f-0fb2-4c55-a66e-1c38de34e83a|NULL      |0   |Venda  |45000|\n",
            "|e1513f1d-2b36-4223-a94e-10e0b0ca42ba|50        |0   |Venda  |50000|\n",
            "|19be630c-f487-448b-85d3-4dae88e7c9e6|NULL      |NULL|Venda  |50000|\n",
            "|336aa58c-b9ee-4387-b2fe-f7d08fac4ca2|0         |0   |Venda  |42000|\n",
            "|86694368-08bf-4b1d-a8d1-184cc493d735|0         |0   |Venda  |42000|\n",
            "|0ca272cb-074f-492a-be0a-007faefadd52|NULL      |NULL|Venda  |42000|\n",
            "|9c0f05a6-9052-4836-a652-110607d35b2b|180       |200 |Venda  |55000|\n",
            "|b7970886-abd6-4084-8ff6-0ef9e1348ee8|150       |NULL|Venda  |56000|\n",
            "|6605d21d-c801-4424-9e41-a402053d4b39|120       |0   |Venda  |55000|\n",
            "|376e89db-4003-4232-99ed-8350aac0f7e2|NULL      |NULL|Venda  |55000|\n",
            "|b5b363e7-b152-498f-b0db-1f1ad9695ac1|235       |0   |Venda  |60000|\n",
            "|62eb4ed7-fd2a-4cb5-bedf-b1d4436256a8|0         |0   |Venda  |54760|\n",
            "|19a733e5-a656-4242-ba4a-174ddb3ea9d6|200       |0   |Aluguel|800  |\n",
            "|19a733e5-a656-4242-ba4a-174ddb3ea9d6|200       |0   |Venda  |55000|\n",
            "|c8bb103d-ec7f-4635-9128-58843f7075ed|250       |80  |Venda  |60000|\n",
            "|219dce83-d964-410b-99e9-604ab3e0f350|NULL      |NULL|Venda  |55000|\n",
            "|d015fef8-e4cc-4120-b68d-09d93d112220|0         |0   |Venda  |60000|\n",
            "|82a78fd5-b24c-494a-91de-2a123538e970|70        |NULL|Venda  |59900|\n",
            "|6b18c2ed-c8f2-41f3-8854-7464346cd974|0         |0   |Venda  |55000|\n",
            "|d8750a04-2890-4345-ab88-a10ad0dd67bf|0         |0   |Venda  |58936|\n",
            "|5916f591-e053-4c8b-b29e-6f65ac9326c0|570       |0   |Venda  |55000|\n",
            "|7a9220d0-05b0-4001-b141-98c23d0d3178|0         |0   |Venda  |60000|\n",
            "|76ad2f30-b79b-4080-bb9d-97e13a86b84b|0         |100 |Venda  |60000|\n",
            "|7450e35c-a16b-49c8-b03f-56464a83e4c6|0         |100 |Venda  |60000|\n",
            "|bc7b58d6-bfca-4660-9cdc-a3c28e7c0d3b|0         |0   |Venda  |55000|\n",
            "|3a990970-330a-47c7-a435-410d8d4ee693|0         |0   |Venda  |70000|\n",
            "|6b036113-6ae8-4f00-bd3d-022581edf701|NULL      |NULL|Venda  |70000|\n",
            "|a267c004-1bff-4cc8-9ca0-b79804bde7cb|0         |0   |Venda  |65000|\n",
            "|6b36634b-9a69-4537-8de9-2d72efe078c5|245       |NULL|Venda  |70000|\n",
            "|6eacce5f-4e4a-40a7-8a4a-052be95f32c2|40        |1   |Venda  |70000|\n",
            "|34aea9e8-cd98-4a0f-afdf-dd4e1a6c7b19|229       |0   |Venda  |70000|\n",
            "|ca1151f8-cbf0-4039-880e-cbcaba517342|0         |0   |Venda  |65000|\n",
            "|2bf395a8-faaf-4217-9683-8098f33761b3|0         |0   |Venda  |65000|\n",
            "|0347d5f9-1dce-4962-9876-dd727c8200b3|377       |NULL|Venda  |70000|\n",
            "|ac5a47f0-94f1-428c-95ca-61e640e2cd5c|0         |NULL|Venda  |70000|\n",
            "|ce0669d5-4429-4347-8510-cbd15370695c|176       |0   |Venda  |70000|\n",
            "|6f00054a-f886-4e6d-862c-f61c208516ae|NULL      |NULL|Venda  |70000|\n",
            "|1284d792-90ae-4f16-8aa0-2da1d35f84d0|69137     |0   |Venda  |69137|\n",
            "|244e3108-73a6-4cdd-ae71-27976c1044db|0         |0   |Venda  |70000|\n",
            "|adf31975-1051-4a9b-824d-26a6800b8038|0         |NULL|Venda  |65000|\n",
            "|2d21874c-047e-4c5e-9454-1b3b0791d3da|170       |0   |Venda  |70000|\n",
            "|2bcb2438-0e6b-4303-9497-a34d71f8b8a9|10        |10  |Venda  |70000|\n",
            "|79320ca6-6552-4716-8156-e0a5bc5308b3|420       |NULL|Venda  |67000|\n",
            "|b51fc19d-ca88-4eaf-ab8f-5a30d5d79556|450       |NULL|Venda  |67000|\n",
            "|32c12501-1bf2-4fc7-969b-1eb243820ad1|70        |1   |Venda  |67000|\n",
            "|2a598bd5-ce51-48f2-891a-624ee4d909e1|0         |0   |Venda  |69829|\n",
            "|4499945c-fac8-4efc-b214-4f949087f5c1|0         |0   |Venda  |65000|\n",
            "|d1797571-fb44-4456-b943-a60968c82aec|NULL      |NULL|Venda  |65000|\n",
            "|4b74380b-65a2-419e-afc1-2d8df8107339|0         |0   |Venda  |70000|\n",
            "|6c515c50-095e-48c4-95d7-07eb71ec0f50|NULL      |0   |Venda  |65000|\n",
            "|68e375f8-8455-409d-adde-dfd63e0237ee|0         |0   |Venda  |70000|\n",
            "|68e375f8-8455-409d-adde-dfd63e0237ee|0         |0   |Aluguel|1000 |\n",
            "+------------------------------------+----------+----+-------+-----+\n",
            "only showing top 100 rows\n",
            "\n"
          ]
        }
      ],
      "source": [
        "# transformando a coluna valores\n",
        "anuncio\\\n",
        "  .select('id', f.explode('valores').alias('valores'))\\\n",
        "  .select('id', 'valores.*')\\\n",
        "  .show(100, truncate=False)"
      ]
    },
    {
      "cell_type": "code",
      "execution_count": null,
      "metadata": {
        "id": "9oYOs3VpPNB4",
        "colab": {
          "base_uri": "https://localhost:8080/"
        },
        "outputId": "081d9c47-7083-4055-c7e8-69ac9ee14475"
      },
      "outputs": [
        {
          "output_type": "stream",
          "name": "stdout",
          "text": [
            "+------------------------------------+----------+----+-----+-----+\n",
            "|id                                  |condominio|iptu|tipo |valor|\n",
            "+------------------------------------+----------+----+-----+-----+\n",
            "|d2e3a3aa-09b5-45a0-9dcd-918847cd3ca3|245       |NULL|Venda|15000|\n",
            "|085bab2c-87ad-452a-bd0f-8b1451509f84|0         |0   |Venda|15000|\n",
            "|18d22cbe-1b86-4764-8def-70c615f15a61|0         |0   |Venda|20000|\n",
            "|bed8a354-9317-4426-b27e-1c798f864271|285       |NULL|Venda|20000|\n",
            "|12a13315-d67f-48f0-9497-017b83252781|245       |NULL|Venda|15000|\n",
            "|a2e6d7a5-0ff0-484d-b3d8-3a8f15e2d80e|285       |NULL|Venda|20000|\n",
            "|a6e3173b-c950-4db4-9b7b-80c44bd75e90|250       |NULL|Venda|15000|\n",
            "|2e6e5dfb-206c-4968-944b-ea4c3918b50d|245       |NULL|Venda|15000|\n",
            "|99f8d0f9-95a4-4613-a55d-c949e7a73e90|245       |NULL|Venda|15000|\n",
            "|b3f44c1a-2d50-4d56-b1fb-a94d59b55ab8|240       |NULL|Venda|17999|\n",
            "|dc99d9e1-4c63-41f7-a53d-678b2b3ccb52|0         |0   |Venda|15000|\n",
            "|aa3606d8-8bcd-45ec-a609-d68a58a12014|240       |0   |Venda|19999|\n",
            "|df80b0d5-677c-4be7-93c4-ddef578125ac|245       |NULL|Venda|19999|\n",
            "|3d6c0218-9b7d-474b-9a44-cd3e005375f9|290       |NULL|Venda|25000|\n",
            "|304266cc-62d1-4ce7-909b-21198c306839|285       |NULL|Venda|29999|\n",
            "|111472a2-afa1-4a73-a8b3-3588ffba362c|0         |0   |Venda|30000|\n",
            "|275c1589-6537-4bf7-9504-74410dbf01fc|NULL      |NULL|Venda|30000|\n",
            "|ab8f367f-7509-45c7-ad9a-f51f84584376|280       |0   |Venda|25000|\n",
            "|e0a3d370-66dd-4f50-a3d9-cf09c8212318|280       |NULL|Venda|27999|\n",
            "|09c8ba2d-dbf1-4879-ba5b-1345355dc415|0         |0   |Venda|26000|\n",
            "+------------------------------------+----------+----+-----+-----+\n",
            "only showing top 20 rows\n",
            "\n"
          ]
        }
      ],
      "source": [
        "# transformando a coluna valores e filtrando apenas os imóveis a venda\n",
        "anuncio\\\n",
        "  .select('id', f.explode('valores').alias('valores'))\\\n",
        "  .select('id', 'valores.*')\\\n",
        "  .filter('valores.tipo==\"Venda\"')\\\n",
        "  .show(truncate=False)"
      ]
    },
    {
      "cell_type": "code",
      "execution_count": null,
      "metadata": {
        "id": "8WNErOX2PiOz"
      },
      "outputs": [],
      "source": [
        "# atribuindo as mudanças a uma variável\n",
        "valores=anuncio\\\n",
        "    .select('id', f.explode('valores').alias('valores'))\\\n",
        "    .select('id', 'valores.*')\\\n",
        "    .filter('valores.tipo==\"Venda\"')"
      ]
    },
    {
      "cell_type": "code",
      "execution_count": null,
      "metadata": {
        "id": "ulGJ4_yfQU8E",
        "colab": {
          "base_uri": "https://localhost:8080/"
        },
        "outputId": "75feb391-c32d-49d1-b2cc-5706ec47d240"
      },
      "outputs": [
        {
          "output_type": "execute_result",
          "data": {
            "text/plain": [
              "66562"
            ]
          },
          "metadata": {},
          "execution_count": 36
        }
      ],
      "source": [
        "# contando os registros da união dos valores com outras infomações\n",
        "anuncio.join(valores, 'id', how='inner').count()"
      ]
    },
    {
      "cell_type": "code",
      "execution_count": null,
      "metadata": {
        "id": "3Cq3vqwkQ4ZA",
        "colab": {
          "base_uri": "https://localhost:8080/"
        },
        "outputId": "3424e095-e996-4390-af8e-3670c515667a"
      },
      "outputs": [
        {
          "output_type": "stream",
          "name": "stdout",
          "text": [
            "+--------------------+-----+----------+---------+---------+--------------------+-------+------+------------+------------+-----------+----+--------------------+--------------------+------------+----------+----+-----+------+\n",
            "|                  id|andar|area_total|area_util|banheiros|     caracteristicas|quartos|suites|tipo_anuncio|tipo_unidade|   tipo_uso|vaga|             valores|              bairro|        zona|condominio|iptu| tipo| valor|\n",
            "+--------------------+-----+----------+---------+---------+--------------------+-------+------+------------+------------+-----------+----+--------------------+--------------------+------------+----------+----+-----+------+\n",
            "|03a386b6-7ab8-4ef...|    0|        43|       43|        1|[Churrasqueira, A...|      2|  NULL|       Usado| Apartamento|Residencial|   1|[{285, NULL, Vend...|            Realengo|  Zona Oeste|       285|NULL|Venda| 22999|\n",
            "|1fe78d41-b8e0-4d2...|    0|        44|       44|        1|                  []|      2|     0|       Usado| Apartamento|Residencial|   0|[{170, 0, Venda, ...|               Irajá|  Zona Norte|       170|   0|Venda|110000|\n",
            "|1fa1c1e5-e98c-433...|    4|      NULL|       55|        1|                  []|      2|     0|       Usado| Apartamento|Residencial|   1|[{NULL, NULL, Ven...|              Cosmos|  Zona Oeste|      NULL|NULL|Venda|115000|\n",
            "|a6ab01ae-3d40-40e...|    2|      NULL|       55|        1|                  []|      2|     0|       Usado| Apartamento|Residencial|   0|[{NULL, NULL, Ven...|        Tomás Coelho|  Zona Norte|      NULL|NULL|Venda|115000|\n",
            "|1d8ff7a2-16bd-4e3...|    0|      NULL|       50|        1|                  []|      1|  NULL|       Usado| Apartamento|Residencial|   0|[{1300, 2679, Ven...|              Centro|Zona Central|      1300|2679|Venda|125000|\n",
            "|40a2cbde-946b-42d...|    2|        47|       47|        1|[Condomínio fecha...|      2|     0|       Usado| Apartamento|Residencial|   1|[{380, NULL, Vend...|        Campo Grande|  Zona Oeste|       380|NULL|Venda|138000|\n",
            "|be269ddf-a4a3-4a7...|    0|     17089|       45|        1|[Churrasqueira, C...|      2|     0|       Usado| Apartamento|Residencial|   1|[{356, 0, Venda, ...|        Campo Grande|  Zona Oeste|       356|   0|Venda|140000|\n",
            "|4b7e3d59-34fd-4ba...|    3|        48|       48|        1|[Churrasqueira, P...|      2|  NULL|       Usado| Apartamento|Residencial|   1|[{0, 0, Venda, 15...|        Campo Grande|  Zona Oeste|         0|   0|Venda|150000|\n",
            "|a1a0c2ac-4fa8-4b0...|    9|      NULL|       55|        1|[Churrasqueira, E...|      2|  NULL|       Usado| Apartamento|Residencial|   1|[{780, 660, Venda...|Freguesia (Jacare...|  Zona Oeste|       780| 660|Venda|160000|\n",
            "|390d2b88-e06d-47e...|    0|        70|       70|        2|   [Salão de festas]|      2|     0|       Usado| Apartamento|Residencial|   1|[{420000, NULL, V...|          Praça Seca|  Zona Oeste|    420000|NULL|Venda|159000|\n",
            "|07bb07c1-21cc-4da...|    2|        50|       48|        1|[Condomínio fecha...|      1|     0|       Usado| Apartamento|Residencial|   0|[{10, 10, Venda, ...|             Piedade|  Zona Norte|        10|  10|Venda|170000|\n",
            "|7d3a1bae-988c-44b...|    5|        40|       40|        1|[Playground, Chur...|      2|     0|       Usado| Apartamento|Residencial|   1|[{150, 120, Venda...|        Braz de Pina|  Zona Norte|       150| 120|Venda|189000|\n",
            "|47af17f0-1c81-474...|    0|        65|       65|        1|                  []|      2|     0|       Usado| Apartamento|Residencial|   1|[{432, NULL, Vend...|            Campinho|  Zona Oeste|       432|NULL|Venda|185000|\n",
            "|a9bd1575-e9f2-43d...|    2|        50|       50|        1|[Condomínio fecha...|      1|     0|       Usado| Apartamento|Residencial|   1|[{650, 1, Venda, ...|           Madureira|  Zona Norte|       650|   1|Venda|185000|\n",
            "|cfca7253-3d02-4cd...|    5|        45|       45|        1|[Academia, Churra...|      2|     1|       Usado| Apartamento|Residencial|   0|[{150, 40, Venda,...|             Taquara|  Zona Oeste|       150|  40|Venda|199000|\n",
            "|b571ae97-e3d8-4fb...|    0|        48|       48|        1|[Academia, Condom...|      2|  NULL|       Usado| Apartamento|Residencial|   0|[{0, 0, Venda, 20...|          Bonsucesso|  Zona Norte|         0|   0|Venda|205933|\n",
            "|eb5fdc65-acae-45f...|    0|        44|       44|        1|[Academia, Condom...|      2|  NULL|       Usado| Apartamento|Residencial|   0|[{0, 0, Venda, 20...|          Bonsucesso|  Zona Norte|         0|   0|Venda|206000|\n",
            "|77cd0388-e3ff-40c...|    2|        64|       64|        1|                  []|      2|     0|       Usado| Apartamento|Residencial|   0|[{0, 0, Venda, 22...|      Jardim América|  Zona Norte|         0|   0|Venda|220000|\n",
            "|74a91f07-7387-4a8...|    0|        55|       55|        2|[Salão de festas,...|      1|     0|       Usado| Apartamento|Residencial|   1|[{600, 652, Venda...|        Engenho Novo|  Zona Norte|       600| 652|Venda|219130|\n",
            "|6aab1165-508d-455...|    3|        60|       60|        1|[Animais permitidos]|      3|     0|       Usado| Apartamento|Residencial|   1|[{98, 1, Venda, 2...|           Cascadura|  Zona Norte|        98|   1|Venda|230000|\n",
            "+--------------------+-----+----------+---------+---------+--------------------+-------+------+------------+------------+-----------+----+--------------------+--------------------+------------+----------+----+-----+------+\n",
            "only showing top 20 rows\n",
            "\n"
          ]
        }
      ],
      "source": [
        "# juntando as colunas de valores formatadas às outras informações\n",
        "anuncio.join(valores, 'id', how='inner').show()"
      ]
    },
    {
      "cell_type": "code",
      "execution_count": null,
      "metadata": {
        "id": "o0mvT60dRC_C",
        "colab": {
          "base_uri": "https://localhost:8080/"
        },
        "outputId": "b1b3ee61-45d6-4c88-cb2c-38cb93a6e284"
      },
      "outputs": [
        {
          "output_type": "stream",
          "name": "stdout",
          "text": [
            "+--------------------+-----+----------+---------+---------+--------------------+-------+------+------------+------------+-----------+----+--------------------+------------+----------+----+-----+------+\n",
            "|                  id|andar|area_total|area_util|banheiros|     caracteristicas|quartos|suites|tipo_anuncio|tipo_unidade|   tipo_uso|vaga|              bairro|        zona|condominio|iptu| tipo| valor|\n",
            "+--------------------+-----+----------+---------+---------+--------------------+-------+------+------------+------------+-----------+----+--------------------+------------+----------+----+-----+------+\n",
            "|03a386b6-7ab8-4ef...|    0|        43|       43|        1|[Churrasqueira, A...|      2|  NULL|       Usado| Apartamento|Residencial|   1|            Realengo|  Zona Oeste|       285|NULL|Venda| 22999|\n",
            "|1fe78d41-b8e0-4d2...|    0|        44|       44|        1|                  []|      2|     0|       Usado| Apartamento|Residencial|   0|               Irajá|  Zona Norte|       170|   0|Venda|110000|\n",
            "|1fa1c1e5-e98c-433...|    4|      NULL|       55|        1|                  []|      2|     0|       Usado| Apartamento|Residencial|   1|              Cosmos|  Zona Oeste|      NULL|NULL|Venda|115000|\n",
            "|a6ab01ae-3d40-40e...|    2|      NULL|       55|        1|                  []|      2|     0|       Usado| Apartamento|Residencial|   0|        Tomás Coelho|  Zona Norte|      NULL|NULL|Venda|115000|\n",
            "|1d8ff7a2-16bd-4e3...|    0|      NULL|       50|        1|                  []|      1|  NULL|       Usado| Apartamento|Residencial|   0|              Centro|Zona Central|      1300|2679|Venda|125000|\n",
            "|40a2cbde-946b-42d...|    2|        47|       47|        1|[Condomínio fecha...|      2|     0|       Usado| Apartamento|Residencial|   1|        Campo Grande|  Zona Oeste|       380|NULL|Venda|138000|\n",
            "|be269ddf-a4a3-4a7...|    0|     17089|       45|        1|[Churrasqueira, C...|      2|     0|       Usado| Apartamento|Residencial|   1|        Campo Grande|  Zona Oeste|       356|   0|Venda|140000|\n",
            "|4b7e3d59-34fd-4ba...|    3|        48|       48|        1|[Churrasqueira, P...|      2|  NULL|       Usado| Apartamento|Residencial|   1|        Campo Grande|  Zona Oeste|         0|   0|Venda|150000|\n",
            "|a1a0c2ac-4fa8-4b0...|    9|      NULL|       55|        1|[Churrasqueira, E...|      2|  NULL|       Usado| Apartamento|Residencial|   1|Freguesia (Jacare...|  Zona Oeste|       780| 660|Venda|160000|\n",
            "|390d2b88-e06d-47e...|    0|        70|       70|        2|   [Salão de festas]|      2|     0|       Usado| Apartamento|Residencial|   1|          Praça Seca|  Zona Oeste|    420000|NULL|Venda|159000|\n",
            "|07bb07c1-21cc-4da...|    2|        50|       48|        1|[Condomínio fecha...|      1|     0|       Usado| Apartamento|Residencial|   0|             Piedade|  Zona Norte|        10|  10|Venda|170000|\n",
            "|7d3a1bae-988c-44b...|    5|        40|       40|        1|[Playground, Chur...|      2|     0|       Usado| Apartamento|Residencial|   1|        Braz de Pina|  Zona Norte|       150| 120|Venda|189000|\n",
            "|47af17f0-1c81-474...|    0|        65|       65|        1|                  []|      2|     0|       Usado| Apartamento|Residencial|   1|            Campinho|  Zona Oeste|       432|NULL|Venda|185000|\n",
            "|a9bd1575-e9f2-43d...|    2|        50|       50|        1|[Condomínio fecha...|      1|     0|       Usado| Apartamento|Residencial|   1|           Madureira|  Zona Norte|       650|   1|Venda|185000|\n",
            "|cfca7253-3d02-4cd...|    5|        45|       45|        1|[Academia, Churra...|      2|     1|       Usado| Apartamento|Residencial|   0|             Taquara|  Zona Oeste|       150|  40|Venda|199000|\n",
            "|b571ae97-e3d8-4fb...|    0|        48|       48|        1|[Academia, Condom...|      2|  NULL|       Usado| Apartamento|Residencial|   0|          Bonsucesso|  Zona Norte|         0|   0|Venda|205933|\n",
            "|eb5fdc65-acae-45f...|    0|        44|       44|        1|[Academia, Condom...|      2|  NULL|       Usado| Apartamento|Residencial|   0|          Bonsucesso|  Zona Norte|         0|   0|Venda|206000|\n",
            "|77cd0388-e3ff-40c...|    2|        64|       64|        1|                  []|      2|     0|       Usado| Apartamento|Residencial|   0|      Jardim América|  Zona Norte|         0|   0|Venda|220000|\n",
            "|74a91f07-7387-4a8...|    0|        55|       55|        2|[Salão de festas,...|      1|     0|       Usado| Apartamento|Residencial|   1|        Engenho Novo|  Zona Norte|       600| 652|Venda|219130|\n",
            "|6aab1165-508d-455...|    3|        60|       60|        1|[Animais permitidos]|      3|     0|       Usado| Apartamento|Residencial|   1|           Cascadura|  Zona Norte|        98|   1|Venda|230000|\n",
            "+--------------------+-----+----------+---------+---------+--------------------+-------+------+------------+------------+-----------+----+--------------------+------------+----------+----+-----+------+\n",
            "only showing top 20 rows\n",
            "\n"
          ]
        }
      ],
      "source": [
        "# removendo as informações de valores não desejadas\n",
        "anuncio.join(valores, 'id', how='inner').drop('valores').show()"
      ]
    },
    {
      "cell_type": "code",
      "execution_count": null,
      "metadata": {
        "id": "OxXZ0BdsRdD-"
      },
      "outputs": [],
      "source": [
        "# aplicando as modificações ao Dataframe\n",
        "anuncio=anuncio.join(valores, 'id', how='inner').drop('valores')"
      ]
    },
    {
      "cell_type": "markdown",
      "metadata": {
        "id": "KDOfTeRpUs8l"
      },
      "source": [
        "## Salvando o resultado da extração no formato parquet"
      ]
    },
    {
      "cell_type": "code",
      "execution_count": null,
      "metadata": {
        "id": "jkDy0J22U4xe"
      },
      "outputs": [],
      "source": [
        "# salvando o Dataframe em parquet e sobrescrevendo o arquivo já existente\n",
        "anuncio.write.parquet(\n",
        "    path='dados_salvos/dataset_transformado_parquet',\n",
        "    mode='overwrite'\n",
        ")"
      ]
    },
    {
      "cell_type": "code",
      "source": [
        "# realizando a leitura do arquivo parquet\n",
        "anuncio_parquet = spark.read.parquet(\n",
        "    'dados_salvos/dataset_transformado_parquet'\n",
        ")"
      ],
      "metadata": {
        "id": "qu-RRg3Jv_OF"
      },
      "execution_count": null,
      "outputs": []
    },
    {
      "cell_type": "code",
      "source": [
        "# visualizando a estrutura do do arquivo parquet\n",
        "anuncio_parquet.printSchema()"
      ],
      "metadata": {
        "colab": {
          "base_uri": "https://localhost:8080/"
        },
        "id": "hutsANHcwTDZ",
        "outputId": "b118ad9e-1fdc-44e4-d28e-0bbae6b12eed"
      },
      "execution_count": null,
      "outputs": [
        {
          "output_type": "stream",
          "name": "stdout",
          "text": [
            "root\n",
            " |-- id: string (nullable = true)\n",
            " |-- andar: long (nullable = true)\n",
            " |-- area_total: string (nullable = true)\n",
            " |-- area_util: string (nullable = true)\n",
            " |-- banheiros: long (nullable = true)\n",
            " |-- caracteristicas: array (nullable = true)\n",
            " |    |-- element: string (containsNull = true)\n",
            " |-- quartos: long (nullable = true)\n",
            " |-- suites: long (nullable = true)\n",
            " |-- tipo_anuncio: string (nullable = true)\n",
            " |-- tipo_unidade: string (nullable = true)\n",
            " |-- tipo_uso: string (nullable = true)\n",
            " |-- vaga: long (nullable = true)\n",
            " |-- bairro: string (nullable = true)\n",
            " |-- zona: string (nullable = true)\n",
            " |-- condominio: string (nullable = true)\n",
            " |-- iptu: string (nullable = true)\n",
            " |-- tipo: string (nullable = true)\n",
            " |-- valor: string (nullable = true)\n",
            "\n"
          ]
        }
      ]
    },
    {
      "cell_type": "code",
      "source": [
        "# visualizando a quantidade de registros\n",
        "anuncio_parquet.count()"
      ],
      "metadata": {
        "colab": {
          "base_uri": "https://localhost:8080/"
        },
        "id": "wdJNLyZRwyyO",
        "outputId": "40c1fbe6-7122-4ad9-fcf4-687897f02b78"
      },
      "execution_count": null,
      "outputs": [
        {
          "output_type": "execute_result",
          "data": {
            "text/plain": [
              "66562"
            ]
          },
          "metadata": {},
          "execution_count": 43
        }
      ]
    },
    {
      "cell_type": "markdown",
      "source": [
        "## Salvando no formato CSV"
      ],
      "metadata": {
        "id": "xTd6WAyDxeMH"
      }
    },
    {
      "cell_type": "code",
      "source": [
        "# salvando os dados transformados\n",
        "anuncio = anuncio.drop(\"caracteristicas\")"
      ],
      "metadata": {
        "id": "JIuXeLtOxlwT"
      },
      "execution_count": null,
      "outputs": []
    },
    {
      "cell_type": "code",
      "source": [
        "# sobreescrevendo o arquivo atual\n",
        "anuncio.write.csv(\n",
        "    path='dados_salvos/dataset_transformado.csv',\n",
        "    mode='overwrite',\n",
        "    header=True\n",
        ")"
      ],
      "metadata": {
        "id": "Gme1HPeaxwsm"
      },
      "execution_count": null,
      "outputs": []
    },
    {
      "cell_type": "code",
      "source": [
        "# realizando a leitura do arquivo csv\n",
        "anuncio_csv = spark.read.csv(\n",
        "    'dados_salvos/dataset_transformado.csv',\n",
        "    header=True\n",
        ")"
      ],
      "metadata": {
        "id": "C4mR30kox8P4"
      },
      "execution_count": null,
      "outputs": []
    },
    {
      "cell_type": "code",
      "source": [
        "# visualizando a estrutura do do arquivo csv\n",
        "anuncio_csv.printSchema()"
      ],
      "metadata": {
        "colab": {
          "base_uri": "https://localhost:8080/"
        },
        "id": "0JyTjq90yKFt",
        "outputId": "3bc1b915-120e-47b4-850c-877cf03cfe5b"
      },
      "execution_count": null,
      "outputs": [
        {
          "output_type": "stream",
          "name": "stdout",
          "text": [
            "root\n",
            " |-- id: string (nullable = true)\n",
            " |-- andar: string (nullable = true)\n",
            " |-- area_total: string (nullable = true)\n",
            " |-- area_util: string (nullable = true)\n",
            " |-- banheiros: string (nullable = true)\n",
            " |-- quartos: string (nullable = true)\n",
            " |-- suites: string (nullable = true)\n",
            " |-- tipo_anuncio: string (nullable = true)\n",
            " |-- tipo_unidade: string (nullable = true)\n",
            " |-- tipo_uso: string (nullable = true)\n",
            " |-- vaga: string (nullable = true)\n",
            " |-- bairro: string (nullable = true)\n",
            " |-- zona: string (nullable = true)\n",
            " |-- condominio: string (nullable = true)\n",
            " |-- iptu: string (nullable = true)\n",
            " |-- tipo: string (nullable = true)\n",
            " |-- valor: string (nullable = true)\n",
            "\n"
          ]
        }
      ]
    },
    {
      "cell_type": "markdown",
      "source": [
        "## Comparando o desempenho entre os arquivos parquet e csv"
      ],
      "metadata": {
        "id": "4u_91K9JyWeU"
      }
    },
    {
      "cell_type": "code",
      "source": [
        "# visualizando o desempendo do arquivo parquet\n",
        "%%time\n",
        "anuncio_parquet.groupBy('bairro').count().show()"
      ],
      "metadata": {
        "colab": {
          "base_uri": "https://localhost:8080/"
        },
        "id": "BMzqcdZ8yhaQ",
        "outputId": "10fca369-26e4-46c5-f1d7-db81a61fd537"
      },
      "execution_count": null,
      "outputs": [
        {
          "output_type": "stream",
          "name": "stdout",
          "text": [
            "+-------------------+-----+\n",
            "|             bairro|count|\n",
            "+-------------------+-----+\n",
            "|             Cocotá|   16|\n",
            "|       Tomás Coelho|   38|\n",
            "|              Gávea|  597|\n",
            "|            Ipanema| 2113|\n",
            "|           Realengo|   46|\n",
            "|      Gardênia Azul|    7|\n",
            "|      Bento Ribeiro|   33|\n",
            "|              Rocha|   38|\n",
            "|Vicente de Carvalho|   86|\n",
            "|         Manguinhos|    1|\n",
            "|       Campo Grande|  639|\n",
            "|        Jacarepaguá| 4437|\n",
            "|               Leme|  234|\n",
            "|           Botafogo| 3499|\n",
            "|       Padre Miguel|   15|\n",
            "|       Santo Cristo|  357|\n",
            "|           Flamengo| 1378|\n",
            "|  Engenho da Rainha|   25|\n",
            "| Pedra de Guaratiba|   12|\n",
            "|            Piedade|  104|\n",
            "+-------------------+-----+\n",
            "only showing top 20 rows\n",
            "\n",
            "CPU times: user 9.37 ms, sys: 816 µs, total: 10.2 ms\n",
            "Wall time: 454 ms\n"
          ]
        }
      ]
    },
    {
      "cell_type": "code",
      "source": [
        "# visualizando o desempendo do arquivo csv\n",
        "%%time\n",
        "anuncio_csv.groupBy('bairro').count().show()"
      ],
      "metadata": {
        "colab": {
          "base_uri": "https://localhost:8080/"
        },
        "id": "Lj-ha-4Syp-w",
        "outputId": "2cb1abd4-a87f-4acc-a2ef-667f96ddf553"
      },
      "execution_count": null,
      "outputs": [
        {
          "output_type": "stream",
          "name": "stdout",
          "text": [
            "+-------------------+-----+\n",
            "|             bairro|count|\n",
            "+-------------------+-----+\n",
            "|             Cocotá|   16|\n",
            "|       Tomás Coelho|   38|\n",
            "|              Gávea|  597|\n",
            "|            Ipanema| 2113|\n",
            "|           Realengo|   46|\n",
            "|      Gardênia Azul|    7|\n",
            "|      Bento Ribeiro|   33|\n",
            "|              Rocha|   38|\n",
            "|Vicente de Carvalho|   86|\n",
            "|         Manguinhos|    1|\n",
            "|       Campo Grande|  639|\n",
            "|        Jacarepaguá| 4437|\n",
            "|               Leme|  234|\n",
            "|           Botafogo| 3499|\n",
            "|       Padre Miguel|   15|\n",
            "|       Santo Cristo|  357|\n",
            "|           Flamengo| 1378|\n",
            "|  Engenho da Rainha|   25|\n",
            "| Pedra de Guaratiba|   12|\n",
            "|            Piedade|  104|\n",
            "+-------------------+-----+\n",
            "only showing top 20 rows\n",
            "\n",
            "CPU times: user 15.1 ms, sys: 1.9 ms, total: 17 ms\n",
            "Wall time: 1.3 s\n"
          ]
        }
      ]
    }
  ],
  "metadata": {
    "colab": {
      "toc_visible": true,
      "provenance": [],
      "authorship_tag": "ABX9TyMpl5hHsWFFks6lWhnGlq5W",
      "include_colab_link": true
    },
    "kernelspec": {
      "display_name": "Python 3",
      "name": "python3"
    },
    "language_info": {
      "name": "python"
    }
  },
  "nbformat": 4,
  "nbformat_minor": 0
}